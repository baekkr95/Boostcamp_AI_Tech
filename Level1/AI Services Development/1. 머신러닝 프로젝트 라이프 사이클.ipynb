{
 "cells": [
  {
   "cell_type": "markdown",
   "metadata": {},
   "source": [
    "# 1. 머신러닝 프로젝트 Flow\n"
   ]
  },
  {
   "cell_type": "markdown",
   "metadata": {},
   "source": [
    "### 문제 정의의 중요성\n",
    "- 문제정의란, 본질을 파악하는 과정이다.\n",
    "- 문제를 잘 풀기 위해선 문제 정의가 매우 중요함\n",
    "- 풀려는 문제가 명확하기 않으면 무엇을 해야할지 결정하기 어렵다.\n",
    "\n",
    "\n",
    "- 머신러닝도 마찬가지다.\n",
    "- 알고리즘, 개발 능력도 중요하지만 근본적인 사고 능력이 중요하다."
   ]
  },
  {
   "cell_type": "markdown",
   "metadata": {},
   "source": [
    "### 문제 해결을 위한 Flow\n",
    "1. 현상 파악\n",
    "2. 구체적인 문제 정의\n",
    "3. 프로젝트 설계\n",
    "    - 문제 정의에 기반해서 프로젝트를 설계한다.\n",
    "    - 머신러닝 문제 타당성 확인 : 제품과 회사의 비즈니스에 가치를 줘야함\n",
    "    - 목표와 지표 설정\n",
    "    - 제약 조건 파악\n",
    "    - 베이스라인, 프로토타입\n",
    "    - Metric Evaluation\n",
    "4. Action(배포, 모니터링)\n",
    "5. 추가 원인 분석"
   ]
  },
  {
   "cell_type": "markdown",
   "metadata": {},
   "source": [
    "### 비즈니스 모델 파악하기\n",
    "1. 회사의 비즈니스 파악\n",
    "2. 데이터를 활용하는 부분은?\n",
    "3. 모델을 활용한다면 예측의 결과가 어떻게 활용될까?"
   ]
  },
  {
   "cell_type": "markdown",
   "metadata": {},
   "source": [
    "### 꿀팁!\n",
    "- 원하는 산업에 대해 정리해둔 Paper 및 깃허브 찾아보기\n",
    "- ex) awesome mobility(원하는 산업) machine leraning github\n",
    "\n",
    "\n",
    "- (책 추천) 한 장으로 끝내는 비즈니스 모델 100"
   ]
  }
 ],
 "metadata": {
  "kernelspec": {
   "display_name": "Python 3",
   "language": "python",
   "name": "python3"
  },
  "language_info": {
   "codemirror_mode": {
    "name": "ipython",
    "version": 3
   },
   "file_extension": ".py",
   "mimetype": "text/x-python",
   "name": "python",
   "nbconvert_exporter": "python",
   "pygments_lexer": "ipython3",
   "version": "3.7.5"
  }
 },
 "nbformat": 4,
 "nbformat_minor": 2
}
