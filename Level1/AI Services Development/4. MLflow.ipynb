{
 "cells": [
  {
   "cell_type": "markdown",
   "metadata": {},
   "source": [
    "### MLflow 이전\n",
    "- 코드를 주피터 노트북에 작성하고, 학습한 Parameters, Metric을 따로 기록했다.\n",
    "- 개인, 연구실 서버를 사용하다가 메모리 초과로 Memory Excced 오류가 발생함\n",
    "- 모델 Versioning을 하기 불편했음\n",
    "- 즉, 실험 추적이 어렵다 / 코드 재현이 어렵다 / 모델 패키징과 배포가 어렵다 / 모델 관리를 위한 중앙 저장소가 없다는 문제들이 있었음\n",
    "\n",
    "### MLflow\n",
    "- 머신러닝 실험, 배포를 쉽게 관리할 수 있는 오픈소스\n",
    "\n",
    "#### 장점\n",
    "1. 실험 관리와 트래킹\n",
    "    - 여러 사람이 하나의 MLflow 서버 위에서 각자 자기 실험을 만들고 공유 가능\n",
    "    - 각 실행에 사용한 코드, 파라미터, 여러 부산물(Artifact, Images..) 저장 가능\n",
    "\n",
    "\n",
    "2. Model Registry\n",
    "    - MLflow로 실행한 모델을 모델 저장소(Registry)에 등록 가능하고 공유도 쉽다\n",
    "    - 모델이 저장될 때마다 버전이 자동으로 올라간다\n",
    "\n",
    "\n",
    "3. 모델 서빙(Serving)\n",
    "    - 레지스트리에 등록한 모델을 REST API 형태의 서버로 서빙이 가능\n",
    "    - 직접 도커 이미지를 만들지 않아도 생성이 가능"
   ]
  },
  {
   "cell_type": "markdown",
   "metadata": {},
   "source": [
    "### MLflow Component\n",
    "1. MLflow Tracking : 결과를 로컬이나 서버에 기록해서 여러 실행과 비교가 가능\n",
    "2. MLflow Project : 프로젝트 코드를 패키징하기 위한 표준\n",
    "3. MLflow Model : 재현이 가능하게 만들어주고 다양한 플랫폼에 배포할 수 있는 도구 제공\n",
    "4. MLflow Registry : 모델의 전체 라이프사이클에서 사용할 수 있는 중앙 저장소"
   ]
  },
  {
   "cell_type": "markdown",
   "metadata": {},
   "source": []
  },
  {
   "cell_type": "code",
   "execution_count": null,
   "metadata": {},
   "outputs": [],
   "source": []
  }
 ],
 "metadata": {
  "kernelspec": {
   "display_name": "Python 3",
   "language": "python",
   "name": "python3"
  },
  "language_info": {
   "codemirror_mode": {
    "name": "ipython",
    "version": 3
   },
   "file_extension": ".py",
   "mimetype": "text/x-python",
   "name": "python",
   "nbconvert_exporter": "python",
   "pygments_lexer": "ipython3",
   "version": "3.7.5"
  }
 },
 "nbformat": 4,
 "nbformat_minor": 2
}
