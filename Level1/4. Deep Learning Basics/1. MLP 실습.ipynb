{
 "cells": [
  {
   "cell_type": "markdown",
   "metadata": {
    "id": "w0aqRluNsI38"
   },
   "source": [
    "# Multilayer Perceptron (MLP)\n",
    "- MNIST classification 구현하기\n",
    "- 구글 코랩으로 작성했고, 주피터노트북에는 코드만 붙여놓음"
   ]
  },
  {
   "cell_type": "code",
   "execution_count": 11,
   "metadata": {
    "colab": {
     "base_uri": "https://localhost:8080/"
    },
    "executionInfo": {
     "elapsed": 276,
     "status": "ok",
     "timestamp": 1644201150212,
     "user": {
      "displayName": "백경륜",
      "photoUrl": "https://lh3.googleusercontent.com/a/default-user=s64",
      "userId": "06459579199878379001"
     },
     "user_tz": -540
    },
    "id": "EXxbX-Diq9rq",
    "outputId": "e104580e-1900-4207-c9d5-8e29c95b3f44"
   },
   "outputs": [
    {
     "name": "stdout",
     "output_type": "stream",
     "text": [
      "PyTorch version:[1.10.0+cu111].\n",
      "device:[cuda:0].\n"
     ]
    }
   ],
   "source": [
    "import numpy as np\n",
    "import matplotlib.pyplot as plt\n",
    "import torch\n",
    "import torch.nn as nn\n",
    "import torch.optim as optim\n",
    "import torch.nn.functional as F\n",
    "%matplotlib inline\n",
    "%config InlineBackend.figure_format='retina'\n",
    "print (\"PyTorch version:[%s].\"%(torch.__version__))\n",
    "device = torch.device('cuda:0' if torch.cuda.is_available() else 'cpu')\n",
    "print (\"device:[%s].\"%(device))"
   ]
  },
  {
   "cell_type": "markdown",
   "metadata": {
    "id": "7HWvC0ZltF8a"
   },
   "source": [
    "### Dataset"
   ]
  },
  {
   "cell_type": "code",
   "execution_count": 12,
   "metadata": {
    "colab": {
     "base_uri": "https://localhost:8080/"
    },
    "executionInfo": {
     "elapsed": 8,
     "status": "ok",
     "timestamp": 1644201150516,
     "user": {
      "displayName": "백경륜",
      "photoUrl": "https://lh3.googleusercontent.com/a/default-user=s64",
      "userId": "06459579199878379001"
     },
     "user_tz": -540
    },
    "id": "uaokkwJwsN5I",
    "outputId": "de8fee68-85e9-434a-f333-b612dc53fb7b"
   },
   "outputs": [
    {
     "name": "stdout",
     "output_type": "stream",
     "text": [
      "mnist_train:\n",
      " Dataset MNIST\n",
      "    Number of datapoints: 60000\n",
      "    Root location: ./data/\n",
      "    Split: Train\n",
      "    StandardTransform\n",
      "Transform: ToTensor() \n",
      "\n",
      "mnist_test:\n",
      " Dataset MNIST\n",
      "    Number of datapoints: 10000\n",
      "    Root location: ./data/\n",
      "    Split: Test\n",
      "    StandardTransform\n",
      "Transform: ToTensor() \n",
      "\n",
      "Done.\n"
     ]
    }
   ],
   "source": [
    "from torchvision import datasets,transforms\n",
    "mnist_train = datasets.MNIST(root='./data/',train=True,transform=transforms.ToTensor(),download=True)\n",
    "mnist_test = datasets.MNIST(root='./data/',train=False,transform=transforms.ToTensor(),download=True)\n",
    "print (\"mnist_train:\\n\",mnist_train,\"\\n\")\n",
    "print (\"mnist_test:\\n\",mnist_test,\"\\n\")\n",
    "print (\"Done.\")"
   ]
  },
  {
   "cell_type": "markdown",
   "metadata": {
    "id": "A4lP2QQoBXGw"
   },
   "source": [
    "### Data Iterator"
   ]
  },
  {
   "cell_type": "code",
   "execution_count": 13,
   "metadata": {
    "colab": {
     "base_uri": "https://localhost:8080/"
    },
    "executionInfo": {
     "elapsed": 6,
     "status": "ok",
     "timestamp": 1644201150516,
     "user": {
      "displayName": "백경륜",
      "photoUrl": "https://lh3.googleusercontent.com/a/default-user=s64",
      "userId": "06459579199878379001"
     },
     "user_tz": -540
    },
    "id": "_0TKrHSCBWzm",
    "outputId": "c41983c6-3860-4852-d69f-2f83033ecb7c"
   },
   "outputs": [
    {
     "name": "stdout",
     "output_type": "stream",
     "text": [
      "Done.\n"
     ]
    }
   ],
   "source": [
    "BATCH_SIZE = 256\n",
    "train_iter = torch.utils.data.DataLoader(mnist_train,batch_size=BATCH_SIZE,shuffle=True,num_workers=1)\n",
    "test_iter = torch.utils.data.DataLoader(mnist_test,batch_size=BATCH_SIZE,shuffle=True,num_workers=1)\n",
    "print (\"Done.\")"
   ]
  },
  {
   "cell_type": "markdown",
   "metadata": {
    "id": "081T7_3lvk-N"
   },
   "source": [
    "### Define the MLP model"
   ]
  },
  {
   "cell_type": "code",
   "execution_count": 14,
   "metadata": {
    "colab": {
     "base_uri": "https://localhost:8080/"
    },
    "executionInfo": {
     "elapsed": 383,
     "status": "ok",
     "timestamp": 1644201150894,
     "user": {
      "displayName": "백경륜",
      "photoUrl": "https://lh3.googleusercontent.com/a/default-user=s64",
      "userId": "06459579199878379001"
     },
     "user_tz": -540
    },
    "id": "U4mWpPXouPCR",
    "outputId": "52163188-6bdf-43e1-c237-0079bd2184a0"
   },
   "outputs": [
    {
     "name": "stdout",
     "output_type": "stream",
     "text": [
      "Done.\n"
     ]
    }
   ],
   "source": [
    "class MultiLayerPerceptronClass(nn.Module):\n",
    "    \"\"\"\n",
    "        Multilayer Perceptron (MLP) Class\n",
    "    \"\"\"\n",
    "    def __init__(self,name='mlp',xdim=784,hdim=256,ydim=10):\n",
    "        super(MultiLayerPerceptronClass,self).__init__()\n",
    "        self.name = name\n",
    "        self.xdim = xdim  # MLP의 입력 차원\n",
    "        self.hdim = hdim  # Hidden 차원\n",
    "        self.ydim = ydim  # Output 차원\n",
    "\n",
    "        self.lin_1 = nn.Linear(self.xdim, self.hdim)\n",
    "        self.lin_2 = nn.Linear(self.hdim, self.ydim)\n",
    "\n",
    "        self.init_param() # initialize parameters\n",
    "\n",
    "    # 파이토치는 알아서 nn.Linear call할 때 initialize를 한다.\n",
    "    # 가끔 새롭게 initialize를 하고 싶으면 따로 custom이 가능함.    \n",
    "    def init_param(self):\n",
    "        nn.init.kaiming_normal_(self.lin_1.weight)  # HE init\n",
    "        nn.init.zeros_(self.lin_1.bias)             # bias = 0\n",
    "        nn.init.kaiming_normal_(self.lin_2.weight)\n",
    "        nn.init.zeros_(self.lin_2.bias)\n",
    "\n",
    "    def forward(self,x):\n",
    "        net = x\n",
    "        net = self.lin_1(net)\n",
    "        net = F.relu(net)\n",
    "        net = self.lin_2(net)\n",
    "        return net\n",
    "\n",
    "M = MultiLayerPerceptronClass(name='mlp',xdim=784,hdim=256,ydim=10).to(device)\n",
    "loss = nn.CrossEntropyLoss()\n",
    "optm = optim.Adam(M.parameters(),lr=1e-3)\n",
    "print (\"Done.\")"
   ]
  },
  {
   "cell_type": "markdown",
   "metadata": {
    "id": "FrPPFQi56NDk"
   },
   "source": [
    "### Simple Forward Path of the MLP Model"
   ]
  },
  {
   "cell_type": "code",
   "execution_count": 15,
   "metadata": {
    "colab": {
     "base_uri": "https://localhost:8080/"
    },
    "executionInfo": {
     "elapsed": 10,
     "status": "ok",
     "timestamp": 1644201150895,
     "user": {
      "displayName": "백경륜",
      "photoUrl": "https://lh3.googleusercontent.com/a/default-user=s64",
      "userId": "06459579199878379001"
     },
     "user_tz": -540
    },
    "id": "0rOz8a1Gw1Xi",
    "outputId": "e31aa89f-fe0c-435c-ea3c-54c09dc283c3"
   },
   "outputs": [
    {
     "name": "stdout",
     "output_type": "stream",
     "text": [
      "x_numpy:\n",
      " [[0.569 0.477 0.849 ... 0.165 0.406 0.134]\n",
      " [0.437 0.633 0.643 ... 0.838 0.107 0.904]]\n",
      "x_torch:\n",
      " tensor([[0.5695, 0.4771, 0.8487,  ..., 0.1651, 0.4058, 0.1345],\n",
      "        [0.4367, 0.6327, 0.6426,  ..., 0.8377, 0.1066, 0.9039]],\n",
      "       device='cuda:0')\n",
      "y_torch:\n",
      " tensor([[ 0.6558,  0.2504, -0.4320,  2.3544,  0.3073,  0.1046, -0.3388, -0.1086,\n",
      "         -0.0340,  0.9881],\n",
      "        [-0.6167, -0.4545, -0.5457,  2.2340,  0.5461, -0.1138, -0.7064, -0.2939,\n",
      "          0.4043,  1.0218]], device='cuda:0', grad_fn=<AddmmBackward0>)\n",
      "y_numpy:\n",
      " [[ 0.656  0.25  -0.432  2.354  0.307  0.105 -0.339 -0.109 -0.034  0.988]\n",
      " [-0.617 -0.454 -0.546  2.234  0.546 -0.114 -0.706 -0.294  0.404  1.022]]\n"
     ]
    }
   ],
   "source": [
    "x_numpy = np.random.rand(2,784)\n",
    "\n",
    "# numpy array를 torch tensor로 변환 후에 float 타입을 맞춘 다음에, \n",
    "# device(cpu 또는 gpu)에 넘겨줘야 활용이 가능해짐\n",
    "x_torch = torch.from_numpy(x_numpy).float().to(device)\n",
    "\n",
    "# forward path를 통해 y_torch라는 output를 받음\n",
    "# M(x_torch)처럼 forward 메소드를 생략해도 동일하게 작동한다.\n",
    "y_torch = M.forward(x_torch) \n",
    "\n",
    "# output(tensor 타입)를 보기위해 다시 numpy 타입으로 변환해줌.\n",
    "y_numpy = y_torch.detach().cpu().numpy() # torch tensor to numpy array\n",
    "print (\"x_numpy:\\n\",x_numpy)\n",
    "print (\"x_torch:\\n\",x_torch)\n",
    "print (\"y_torch:\\n\",y_torch)\n",
    "print (\"y_numpy:\\n\",y_numpy)"
   ]
  },
  {
   "cell_type": "markdown",
   "metadata": {
    "id": "zzd12JKl7NpX"
   },
   "source": [
    "### Check Parameters"
   ]
  },
  {
   "cell_type": "code",
   "execution_count": 16,
   "metadata": {
    "colab": {
     "base_uri": "https://localhost:8080/"
    },
    "executionInfo": {
     "elapsed": 8,
     "status": "ok",
     "timestamp": 1644201150895,
     "user": {
      "displayName": "백경륜",
      "photoUrl": "https://lh3.googleusercontent.com/a/default-user=s64",
      "userId": "06459579199878379001"
     },
     "user_tz": -540
    },
    "id": "3Rmd2r_kw1s0",
    "outputId": "53efad20-518d-4f3b-e5f1-295fa203fabb"
   },
   "outputs": [
    {
     "name": "stdout",
     "output_type": "stream",
     "text": [
      "[0] name:[lin_1.weight] shape:[(256, 784)].\n",
      "    val:[-0.011 -0.028 -0.075  0.034  0.061]\n",
      "[1] name:[lin_1.bias] shape:[(256,)].\n",
      "    val:[0. 0. 0. 0. 0.]\n",
      "[2] name:[lin_2.weight] shape:[(10, 256)].\n",
      "    val:[-0.058 -0.066  0.034  0.084 -0.09 ]\n",
      "[3] name:[lin_2.bias] shape:[(10,)].\n",
      "    val:[0. 0. 0. 0. 0.]\n",
      "Total number of parameters:[203,530].\n"
     ]
    }
   ],
   "source": [
    "np.set_printoptions(precision=3)\n",
    "n_param = 0\n",
    "for p_idx,(param_name,param) in enumerate(M.named_parameters()):\n",
    "    param_numpy = param.detach().cpu().numpy()\n",
    "    n_param += len(param_numpy.reshape(-1))\n",
    "    print (\"[%d] name:[%s] shape:[%s].\"%(p_idx,param_name,param_numpy.shape))\n",
    "    print (\"    val:%s\"%(param_numpy.reshape(-1)[:5]))\n",
    "print (\"Total number of parameters:[%s].\"%(format(n_param,',d')))"
   ]
  },
  {
   "cell_type": "markdown",
   "metadata": {
    "id": "VVaqrcXUA5EB"
   },
   "source": [
    "### Evaluation Function"
   ]
  },
  {
   "cell_type": "code",
   "execution_count": 17,
   "metadata": {
    "colab": {
     "base_uri": "https://localhost:8080/"
    },
    "executionInfo": {
     "elapsed": 7,
     "status": "ok",
     "timestamp": 1644201150895,
     "user": {
      "displayName": "백경륜",
      "photoUrl": "https://lh3.googleusercontent.com/a/default-user=s64",
      "userId": "06459579199878379001"
     },
     "user_tz": -540
    },
    "id": "SxXyYXH75Veq",
    "outputId": "aa17da2d-67c1-4067-b25a-165e9fdf26f2"
   },
   "outputs": [
    {
     "name": "stdout",
     "output_type": "stream",
     "text": [
      "Done\n"
     ]
    }
   ],
   "source": [
    "def func_eval(model,data_iter,device):\n",
    "    with torch.no_grad(): # gradient를 계산하지 않는다.\n",
    "        model.eval() # evaluate (affects DropOut and BN)\n",
    "        n_total,n_correct = 0,0\n",
    "        for batch_in,batch_out in data_iter: # data loader를 통해 X,y를 뽑음\n",
    "            y_trgt = batch_out.to(device) # target(y) 데이터\n",
    "\n",
    "            # model forward 진행\n",
    "            model_pred = model(batch_in.view(-1, 28*28).to(device))\n",
    "            \n",
    "            # logits 값이 나오니까 max를 통해 prediction label를 구함(값이 가장 큰 클래스(라벨)를 구함)\n",
    "            _,y_pred = torch.max(model_pred.data,1)\n",
    "            n_correct += (y_pred == y_trgt).sum().item()\n",
    "            n_total += batch_in.size(0)\n",
    "        val_accr = (n_correct/n_total)  # 정확도 계산\n",
    "        model.train() # back to train mode \n",
    "    return val_accr\n",
    "print (\"Done\")"
   ]
  },
  {
   "cell_type": "markdown",
   "metadata": {
    "id": "WmmJjAFKKOrB"
   },
   "source": [
    "### Initial Evaluation"
   ]
  },
  {
   "cell_type": "code",
   "execution_count": 18,
   "metadata": {
    "colab": {
     "base_uri": "https://localhost:8080/"
    },
    "executionInfo": {
     "elapsed": 5670,
     "status": "ok",
     "timestamp": 1644201156559,
     "user": {
      "displayName": "백경륜",
      "photoUrl": "https://lh3.googleusercontent.com/a/default-user=s64",
      "userId": "06459579199878379001"
     },
     "user_tz": -540
    },
    "id": "pNlGD1TlA4T8",
    "outputId": "bd9305db-b0d6-4adf-e4ce-8eba771068fb"
   },
   "outputs": [
    {
     "name": "stdout",
     "output_type": "stream",
     "text": [
      "train_accr:[0.107] test_accr:[0.106].\n"
     ]
    }
   ],
   "source": [
    "M.init_param() # initialize parameters\n",
    "train_accr = func_eval(M,train_iter,device)\n",
    "test_accr = func_eval(M,test_iter,device)\n",
    "print (\"train_accr:[%.3f] test_accr:[%.3f].\"%(train_accr,test_accr))\n",
    "# 모델을 initialize하고 클래스가 10개니까 대충 정확도가 10퍼센트 나옴"
   ]
  },
  {
   "cell_type": "markdown",
   "metadata": {
    "id": "yT_r2wMZLjTm"
   },
   "source": [
    "### Train"
   ]
  },
  {
   "cell_type": "code",
   "execution_count": 20,
   "metadata": {
    "colab": {
     "base_uri": "https://localhost:8080/"
    },
    "executionInfo": {
     "elapsed": 113895,
     "status": "ok",
     "timestamp": 1644201306099,
     "user": {
      "displayName": "백경륜",
      "photoUrl": "https://lh3.googleusercontent.com/a/default-user=s64",
      "userId": "06459579199878379001"
     },
     "user_tz": -540
    },
    "id": "3AS5BdrMw1E9",
    "outputId": "e4beddaf-281f-43d1-d1d0-82a4713906a7"
   },
   "outputs": [
    {
     "name": "stdout",
     "output_type": "stream",
     "text": [
      "Start training.\n",
      "epoch:[0] loss:[0.377] train_accr:[0.945] test_accr:[0.942].\n",
      "epoch:[1] loss:[0.167] train_accr:[0.964] test_accr:[0.958].\n",
      "epoch:[2] loss:[0.118] train_accr:[0.975] test_accr:[0.967].\n",
      "epoch:[3] loss:[0.089] train_accr:[0.982] test_accr:[0.972].\n",
      "epoch:[4] loss:[0.070] train_accr:[0.985] test_accr:[0.975].\n",
      "epoch:[5] loss:[0.057] train_accr:[0.989] test_accr:[0.977].\n",
      "epoch:[6] loss:[0.047] train_accr:[0.989] test_accr:[0.978].\n",
      "epoch:[7] loss:[0.040] train_accr:[0.992] test_accr:[0.977].\n",
      "epoch:[8] loss:[0.032] train_accr:[0.994] test_accr:[0.980].\n",
      "epoch:[9] loss:[0.027] train_accr:[0.995] test_accr:[0.980].\n",
      "Done\n"
     ]
    }
   ],
   "source": [
    "print (\"Start training.\")\n",
    "M.init_param() # initialize parameters\n",
    "M.train()\n",
    "EPOCHS, print_every = 10, 1\n",
    "for epoch in range(EPOCHS):\n",
    "    loss_val_sum = 0\n",
    "    for batch_in,batch_out in train_iter:\n",
    "        # Forward path\n",
    "        # 784 dimension으로 reshape하고 device에 올린다.\n",
    "        y_pred = M.forward(batch_in.view(-1, 28*28).to(device))\n",
    "        loss_out = loss(y_pred,batch_out.to(device))\n",
    "\n",
    "        # Update\n",
    "        optm.zero_grad()     # reset gradient, 파라미터 gradient를 0으로 초기화 \n",
    "        loss_out.backward()   # backpropagate, 각각의 weight에 대해서 loss가 쌓임\n",
    "        optm.step()          # optimizer update, weight를 옮김\n",
    "\n",
    "        loss_val_sum += loss_out\n",
    "    loss_val_avg = loss_val_sum/len(train_iter) # loss값 계산\n",
    "    # Print\n",
    "    if ((epoch%print_every)==0) or (epoch==(EPOCHS-1)):\n",
    "        train_accr = func_eval(M,train_iter,device) # train 정확도 계산\n",
    "        test_accr = func_eval(M,test_iter,device)   # test 정확도 계산\n",
    "        print (\"epoch:[%d] loss:[%.3f] train_accr:[%.3f] test_accr:[%.3f].\"%\n",
    "               (epoch,loss_val_avg,train_accr,test_accr))\n",
    "print (\"Done\")        "
   ]
  },
  {
   "cell_type": "markdown",
   "metadata": {
    "id": "NHQIhg-aNok5"
   },
   "source": [
    "### Test"
   ]
  },
  {
   "cell_type": "code",
   "execution_count": 25,
   "metadata": {
    "colab": {
     "base_uri": "https://localhost:8080/",
     "height": 663
    },
    "executionInfo": {
     "elapsed": 1525,
     "status": "ok",
     "timestamp": 1644201567570,
     "user": {
      "displayName": "백경륜",
      "photoUrl": "https://lh3.googleusercontent.com/a/default-user=s64",
      "userId": "06459579199878379001"
     },
     "user_tz": -540
    },
    "id": "52zoFQxdMWRU",
    "outputId": "c7cb5cf0-3549-4b5a-9666-3b14ed50dc14"
   },
   "outputs": [
    {
     "name": "stdout",
     "output_type": "stream",
     "text": [
      "torch.Size([25, 10])\n",
      "tensor([2, 7, 9, 2, 7, 3, 5, 4, 0, 9, 1, 8, 4, 4, 1, 9, 6, 1, 0, 7, 2, 5, 6, 2,\n",
      "        8], device='cuda:0')\n"
     ]
    },
    {
     "data": {
      "image/png": "[encoded data removed]",
      "text/plain": [
       "<Figure size 720x720 with 25 Axes>"
      ]
     },
     "metadata": {
      "image/png": {
       "height": 573,
       "width": 569
      },
      "needs_background": "light"
     },
     "output_type": "display_data"
    },
    {
     "name": "stdout",
     "output_type": "stream",
     "text": [
      "Done\n"
     ]
    }
   ],
   "source": [
    "n_sample = 25\n",
    "# Test dataset에서 25개 샘플링\n",
    "sample_indices = np.random.choice(len(mnist_test.targets), n_sample, replace=False)\n",
    "test_x = mnist_test.data[sample_indices] # test input\n",
    "test_y = mnist_test.targets[sample_indices] # test output\n",
    "\n",
    "# 학습된 model에 대해 prediction을 얻고 얼마나 정확한지 확인하기\n",
    "with torch.no_grad():\n",
    "    y_pred = M.forward(test_x.view(-1, 28*28).type(torch.float).to(device)/255.)\n",
    "    print(y_pred.shape)\n",
    "# 뽑힌 logits에 대해서 argmax로 가장 높은 값을 뽑음(라벨 뽑음)\n",
    "y_pred = y_pred.argmax(axis=1)\n",
    "print(y_pred)\n",
    "\n",
    "plt.figure(figsize=(10,10))\n",
    "for idx in range(n_sample):\n",
    "    plt.subplot(5, 5, idx+1)\n",
    "    plt.imshow(test_x[idx], cmap='gray')\n",
    "    plt.axis('off')\n",
    "    plt.title(\"Pred:%d, Label:%d\"%(y_pred[idx],test_y[idx]))\n",
    "plt.show()    \n",
    "print (\"Done\")"
   ]
  }
 ],
 "metadata": {
  "accelerator": "GPU",
  "colab": {
   "collapsed_sections": [],
   "name": "1. mlp.ipynb의 사본",
   "provenance": [
    {
     "file_id": "https://github.com/sjchoi86/upstage-basic-deeplearning/blob/main/notebook/mlp.ipynb",
     "timestamp": 1644199475604
    }
   ]
  },
  "kernelspec": {
   "display_name": "Python 3",
   "language": "python",
   "name": "python3"
  },
  "language_info": {
   "codemirror_mode": {
    "name": "ipython",
    "version": 3
   },
   "file_extension": ".py",
   "mimetype": "text/x-python",
   "name": "python",
   "nbconvert_exporter": "python",
   "pygments_lexer": "ipython3",
   "version": "3.7.5"
  }
 },
 "nbformat": 4,
 "nbformat_minor": 1
}
