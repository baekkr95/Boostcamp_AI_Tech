{
 "cells": [
  {
   "cell_type": "markdown",
   "metadata": {},
   "source": [
    "## OOM (out of memory)\n",
    "- 왜 발생했는지 알기 어려움\n",
    "- 어디서 발생했는지 알기 어려움\n",
    "- Error Backtracking 이 이상한데로 감\n",
    "- 메모리의 이전 상황의 파악이 어려움\n",
    "- 보통 iteration 돌면서 에러가 자주 나옴. 이럴 때 메모리의 이전 상황을 알기가 어려워진다.\n"
   ]
  },
  {
   "cell_type": "markdown",
   "metadata": {},
   "source": [
    "### 해결법\n",
    "- 가장 일차원적인 해결법은 Batch 사이즈를 줄이고 Gpu를 클린시키고 다시 실행시키는 것\n",
    "- 하지만 이 방법으로도 해결이 안되는 경우도 많음. 게다가 배치 사이즈를 줄이면 시간도 오래 걸림.\n",
    "- 그래서 다양한 해결 방법들을 알아보려고 함."
   ]
  },
  {
   "cell_type": "markdown",
   "metadata": {},
   "source": [
    "### GPUUtil 사용하기\n",
    "- nvidia-smi 처럼 GPU의 상태를 보여주는 모듈임.\n",
    "- iteration 마다 메모리가 늘어나는지 확인할 수 있다."
   ]
  },
  {
   "cell_type": "markdown",
   "metadata": {},
   "source": [
    "### empty_cache() 사용하기\n",
    "- torch.cuda.empty_cache()\n",
    "- 사용되지 않은 GPU상 cahche를 정리함.\n",
    "- 가용 메모리를 확보할 수 있음\n",
    "- reset 대신에 쓰기 좋은 함수임."
   ]
  },
  {
   "cell_type": "markdown",
   "metadata": {},
   "source": []
  },
  {
   "cell_type": "markdown",
   "metadata": {},
   "source": []
  },
  {
   "cell_type": "markdown",
   "metadata": {},
   "source": []
  },
  {
   "cell_type": "markdown",
   "metadata": {},
   "source": []
  },
  {
   "cell_type": "markdown",
   "metadata": {},
   "source": []
  },
  {
   "cell_type": "markdown",
   "metadata": {},
   "source": []
  },
  {
   "cell_type": "markdown",
   "metadata": {},
   "source": []
  },
  {
   "cell_type": "markdown",
   "metadata": {},
   "source": []
  }
 ],
 "metadata": {
  "kernelspec": {
   "display_name": "Python 3",
   "language": "python",
   "name": "python3"
  },
  "language_info": {
   "codemirror_mode": {
    "name": "ipython",
    "version": 3
   },
   "file_extension": ".py",
   "mimetype": "text/x-python",
   "name": "python",
   "nbconvert_exporter": "python",
   "pygments_lexer": "ipython3",
   "version": "3.7.5"
  }
 },
 "nbformat": 4,
 "nbformat_minor": 2
}
