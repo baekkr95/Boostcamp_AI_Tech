{
 "cells": [
  {
   "cell_type": "markdown",
   "metadata": {
    "id": "1UL2tS-EQZKN"
   },
   "source": [
    "# Assignment 2. Text Processing I\n",
    "---\n"
   ]
  },
  {
   "cell_type": "markdown",
   "metadata": {
    "id": "GOCEPGWCYyj3"
   },
   "source": [
    "### **함수 작성하기**"
   ]
  },
  {
   "cell_type": "code",
   "execution_count": 17,
   "metadata": {
    "id": "mk0RS6zas1zo"
   },
   "outputs": [],
   "source": [
    "#######################\n",
    "# Test Processing I   #\n",
    "#######################\n",
    "\n",
    "\"\"\"\n",
    "NLP에서 흔히하는 전처리는 소문자 변환, 앞뒤 필요없는 띄어쓰기를 제거하는 등의 텍스트 정규화 (text normalization)입니다. \n",
    "이번 숙제에서는 텍스트 처리 방법을 파이썬으로 배워보겠습니다. \n",
    "\"\"\"\n",
    "\n",
    "\n",
    "def normalize(input_string):\n",
    "    \"\"\"\n",
    "     인풋으로 받는 스트링에서 정규화된 스트링을 반환함\n",
    "     아래의 요건들을 충족시켜야함\n",
    "    * 모든 단어들은 소문자로 되어야함\n",
    "    * 띄어쓰기는 한칸으로 되어야함\n",
    "    * 앞뒤 필요없는 띄어쓰기는 제거해야함\n",
    "         Parameters:\n",
    "             input_string (string): 영어로 된 대문자, 소문자, 띄어쓰기, 문장부호, 숫자로 이루어진 string\n",
    "             ex - \"This is an example.\", \"   EXTRA   SPACE   \"\n",
    "         Returns:\n",
    "             normalized_string (string): 위 요건을 충족시킨 정규회된 string\n",
    "             ex - 'this is an example.'\n",
    "         Examples:\n",
    "             >>> import text_processing as tp\n",
    "             >>> input_string1 = \"This is an example.\"\n",
    "             >>> tp.normalize(input_string1)\n",
    "             'this is an example.'\n",
    "             >>> input_string2 = \"   EXTRA   SPACE   \"\n",
    "             >>> tp.normalize(input_string2)\n",
    "             'extra space'\n",
    "    \"\"\"\n",
    "    normalized_string = input_string.lower()\n",
    "    normalized_string = normalized_string.strip()\n",
    "    normalized_string = ' '.join(normalized_string.split())\n",
    "    normalized_string\n",
    "    \n",
    "    return normalized_string\n",
    "\n",
    "\n",
    "def no_vowels(input_string):\n",
    "    \"\"\"\n",
    "    인풋으로 받는 스트링에서 모든 모음 (a, e, i, o, u)를 제거시킨 스트링을 반환함\n",
    "        Parameters:\n",
    "            input_string (string): 영어로 된 대문자, 소문자, 띄어쓰기, 문장부호로 이루어진 string\n",
    "            ex - \"This is an example.\"\n",
    "        Returns:\n",
    "            no_vowel_string (string): 모든 모음 (a, e, i, o, u)를 제거시킨 스트링\n",
    "            ex - \"Ths s n xmpl.\"\n",
    "        Examples:\n",
    "            >>> import text_processing as tp\n",
    "            >>> input_string1 = \"This is an example.\"\n",
    "            >>> tp.normalize(input_string1)\n",
    "            \"Ths s n xmpl.\"\n",
    "            >>> input_string2 = \"We love Python!\"\n",
    "            >>> tp.normalize(input_string2)\n",
    "            ''W lv Pythn!'\n",
    "    \"\"\" \n",
    "    # 빈 문자열 생성\n",
    "    no_vowel_string = str()\n",
    "    \n",
    "    # 모음 필터링\n",
    "    for i in input_string:\n",
    "        if i not in ['a','e','i','o','u','A','E','I','O','U']:\n",
    "            no_vowel_string += i\n",
    "    \n",
    "    return no_vowel_string"
   ]
  },
  {
   "cell_type": "code",
   "execution_count": 18,
   "metadata": {
    "id": "TX2ZO5O8sKnJ"
   },
   "outputs": [],
   "source": [
    "# -*- coding: utf8 -*-\n",
    "\n",
    "import unittest\n",
    "import random\n",
    "\n",
    "\n",
    "class TestTextProcessing(unittest.TestCase):\n",
    "    def test_normalize(self):\n",
    "        test_str = \"This is an example.\"\n",
    "        pred = normalize(test_str)\n",
    "        self.assertEqual(pred, \"this is an example.\")\n",
    "\n",
    "        test_str = \"   EXTRA   SPACE   \"\n",
    "        pred = normalize(test_str)\n",
    "        self.assertEqual(pred, \"extra space\")\n",
    "\n",
    "        test_str = \"THIS IS ALL CAPS!!\"\n",
    "        pred = normalize(test_str)\n",
    "        self.assertEqual(pred, \"this is all caps!!\")\n",
    "\n",
    "        test_str = \"                   \"\n",
    "        pred = normalize(test_str)\n",
    "        self.assertEqual(pred, \"\")\n",
    "\n",
    "        test_str = \"this is all lower space...\"\n",
    "        pred = normalize(test_str)\n",
    "        self.assertEqual(pred, \"this is all lower space...\")\n",
    "\n",
    "        test_str = \"  H  e  L    l   O   !\"\n",
    "        pred = normalize(test_str)\n",
    "        self.assertEqual(pred, \"h e l l o !\")\n",
    "\n",
    "        test_str = \"\"\n",
    "        pred = normalize(test_str)\n",
    "        self.assertEqual(pred, \"\")\n",
    "\n",
    "        test_str = \"........\"\n",
    "        pred = normalize(test_str)\n",
    "        self.assertEqual(pred, \"........\")\n",
    "\n",
    "        test_str = \"EX  A M P     LE\"\n",
    "        pred = normalize(test_str)\n",
    "        self.assertEqual(pred, \"ex a m p le\")\n",
    "\n",
    "        test_str = \"Test Text Normalization\"\n",
    "        pred = normalize(test_str)\n",
    "        self.assertEqual(pred, \"test text normalization\")\n",
    "\n",
    "        test_str = \"AbCd EfGh IjKl MnOp\"\n",
    "        pred = normalize(test_str)\n",
    "        self.assertEqual(pred, \"abcd efgh ijkl mnop\")\n",
    "\n",
    "    def test_no_vowels(self):\n",
    "        test_str = \"This is an example.\"\n",
    "        pred = no_vowels(test_str)\n",
    "        self.assertEqual(pred, \"Ths s n xmpl.\")\n",
    "\n",
    "        test_str = \"We love Python!\"\n",
    "        pred = no_vowels(test_str)\n",
    "        self.assertEqual(pred, \"W lv Pythn!\")\n",
    "\n",
    "        test_str = \"AEIOU\"\n",
    "        pred = no_vowels(test_str)\n",
    "        self.assertEqual(pred, \"\")\n",
    "\n",
    "        test_str = \"aeiou\"\n",
    "        pred = no_vowels(test_str)\n",
    "        self.assertEqual(pred, \"\")\n",
    "\n",
    "        test_str = \"QWERTY\"\n",
    "        pred = no_vowels(test_str)\n",
    "        self.assertEqual(pred, \"QWRTY\")\n",
    "\n",
    "        test_str = \"qwerty\"\n",
    "        pred = no_vowels(test_str)\n",
    "        self.assertEqual(pred, \"qwrty\")\n",
    "\n",
    "        test_str = \"AI for ALL!\"\n",
    "        pred = no_vowels(test_str)\n",
    "        self.assertEqual(pred, \" fr LL!\")\n",
    "\n",
    "        test_str = \"Are there any vowels?\"\n",
    "        pred = no_vowels(test_str)\n",
    "        self.assertEqual(pred, \"r thr ny vwls?\")\n",
    "\n",
    "        test_str = \"\"\n",
    "        pred = no_vowels(test_str)\n",
    "        self.assertEqual(pred, \"\")\n",
    "\n",
    "        test_str = \"abcdefghijklmnopqrstuvwxyz\"\n",
    "        pred = no_vowels(test_str)\n",
    "        self.assertEqual(pred, \"bcdfghjklmnpqrstvwxyz\")"
   ]
  },
  {
   "cell_type": "markdown",
   "metadata": {
    "id": "stofanMeYpJz"
   },
   "source": [
    "### **Test Code**\n",
    "\n",
    "아래는 본인이 짠 code가 맞는지 test하는 code입니다.\n",
    "\n",
    "함수별로 test가 진행되고, AssertionError 없이 모두 통과하면 성공입니다 !\n",
    "\n",
    "만약 AssertionError가 발생했다면, 해당 Error가 어느 함수에서 발생했는지를 확인하고, 그 부분을 수정해주시면 되겠습니다."
   ]
  },
  {
   "cell_type": "code",
   "execution_count": 19,
   "metadata": {
    "colab": {
     "base_uri": "https://localhost:8080/",
     "height": 358
    },
    "id": "ygN22f8veKEm",
    "outputId": "deaa05c8-5fa6-4155-f564-ef254c957695"
   },
   "outputs": [
    {
     "name": "stdout",
     "output_type": "stream",
     "text": [
      "Congratulation!\n"
     ]
    }
   ],
   "source": [
    "ttp = TestTextProcessing()\n",
    "\n",
    "ttp.test_normalize()\n",
    "ttp.test_no_vowels()\n",
    "\n",
    "print(\"Congratulation!\")"
   ]
  },
  {
   "cell_type": "code",
   "execution_count": null,
   "metadata": {},
   "outputs": [],
   "source": []
  }
 ],
 "metadata": {
  "accelerator": "GPU",
  "colab": {
   "collapsed_sections": [],
   "name": "Assignment2_Text_Processing_I.ipynb",
   "provenance": [],
   "toc_visible": true
  },
  "kernelspec": {
   "display_name": "Python 3",
   "language": "python",
   "name": "python3"
  },
  "language_info": {
   "codemirror_mode": {
    "name": "ipython",
    "version": 3
   },
   "file_extension": ".py",
   "mimetype": "text/x-python",
   "name": "python",
   "nbconvert_exporter": "python",
   "pygments_lexer": "ipython3",
   "version": "3.7.5"
  }
 },
 "nbformat": 4,
 "nbformat_minor": 1
}
