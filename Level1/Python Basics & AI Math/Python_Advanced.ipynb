{
 "cells": [
  {
   "cell_type": "markdown",
   "metadata": {},
   "source": [
    "# Python for AI\n",
    "- Basics 보다 좀 더 Advanced 한 개념을 주로 정리했음\n",
    "- 클래스, 클로져, 제너레이터 등등.."
   ]
  },
  {
   "cell_type": "markdown",
   "metadata": {},
   "source": [
    "## 클래스 설계"
   ]
  },
  {
   "cell_type": "code",
   "execution_count": 2,
   "metadata": {},
   "outputs": [],
   "source": [
    "# 학생 정보를 담는 클래스를 설계\n",
    "class Student():\n",
    "    # 생성자\n",
    "    def __init__(self, name, number, grade, details):\n",
    "        # 객체 초기화\n",
    "        self.name = name\n",
    "        self.number = number\n",
    "        self.grade = grade\n",
    "        self.details = details\n",
    "        \n",
    "    def __str__(self):\n",
    "        return 'str 메소드 호출 : {}'.format(self.name)"
   ]
  },
  {
   "cell_type": "code",
   "execution_count": 3,
   "metadata": {},
   "outputs": [],
   "source": [
    "# 학생을 만들자\n",
    "# 클래스를 기반으로 생성한 인스턴스\n",
    "student1 = Student('Kim', 1, 1, {'gender':'Male', 'score':95})\n",
    "student2 = Student('Park', 2, 3, {'gender':'Female', 'score':90})\n",
    "student3 = Student('Baek', 3, 5, {'gender':'Male', 'score':100})"
   ]
  },
  {
   "cell_type": "code",
   "execution_count": 4,
   "metadata": {},
   "outputs": [
    {
     "data": {
      "text/plain": [
       "{'name': 'Kim',\n",
       " 'number': 1,\n",
       " 'grade': 1,\n",
       " 'details': {'gender': 'Male', 'score': 95}}"
      ]
     },
     "execution_count": 4,
     "metadata": {},
     "output_type": "execute_result"
    }
   ],
   "source": [
    "# 학생 1번이 어떤 속성을 갖는지 확인하자\n",
    "student1.__dict__"
   ]
  },
  {
   "cell_type": "code",
   "execution_count": 6,
   "metadata": {},
   "outputs": [
    {
     "name": "stdout",
     "output_type": "stream",
     "text": [
      "str 메소드 호출 : Kim\n",
      "str 메소드 호출 : Park\n",
      "str 메소드 호출 : Baek\n"
     ]
    }
   ],
   "source": [
    "# __str__ 메소드 사용하기\n",
    "# 객체에 어떤게 들었는지 참고할 때 사용하면 좋다\n",
    "student_list = []\n",
    "student_list.append(student1)\n",
    "student_list.append(student2)\n",
    "student_list.append(student3)\n",
    "\n",
    "for i in student_list:\n",
    "    print(i)"
   ]
  },
  {
   "cell_type": "markdown",
   "metadata": {},
   "source": [
    "---\n",
    "## Closure & Decorator\n",
    "- 파이썬이 일급 함수이기 때문에 사용할 수 있음"
   ]
  },
  {
   "cell_type": "code",
   "execution_count": 10,
   "metadata": {},
   "outputs": [
    {
     "name": "stdout",
     "output_type": "stream",
     "text": [
      "5\n",
      "10\n"
     ]
    }
   ],
   "source": [
    "# 파이썬 변수의 범위\n",
    "b = 10\n",
    "def func_v1(a):\n",
    "    print(a)\n",
    "    print(b)\n",
    "\n",
    "func_v1(5)"
   ]
  },
  {
   "cell_type": "code",
   "execution_count": 12,
   "metadata": {},
   "outputs": [],
   "source": [
    "b = 10\n",
    "def func_v2(a):\n",
    "    print(a)\n",
    "    print(b)\n",
    "    b = 5\n",
    "\n",
    "func_v2(5)\n",
    "\n",
    "### local variable 'b' referenced before assignment 에러가 뜬다"
   ]
  },
  {
   "cell_type": "markdown",
   "metadata": {},
   "source": [
    "- 위의 func_v1 함수는 b가 글로벌 변수이기 때문에 함수에서 print()가 된다\n",
    "-  하지만 func_v2 함수에서는 print(b)를 하는데 b가 자신의 지역범위 안에 있는 것만 확인되고 b에 값이 할당되는것은 print 다음이기 때문에 error가 발생한다. \n",
    "- 이는 지역변수가 글로벌 변수보다 우선이기 때문이다. "
   ]
  },
  {
   "cell_type": "markdown",
   "metadata": {},
   "source": [
    "### 위의 개념을 생각해보면 closure를 이해하기 쉬워짐\n",
    "- 반환되는 내부 함수에 대해서 선언된 연결을 가지고 참조하는 방식임\n",
    "- 반환 당시, 함수의 유효범위를 벗어난 변수 혹은 메소드에 직접 접근을 하는 것"
   ]
  },
  {
   "cell_type": "code",
   "execution_count": 27,
   "metadata": {},
   "outputs": [
    {
     "name": "stdout",
     "output_type": "stream",
     "text": [
      "20\n",
      "30\n",
      "45\n"
     ]
    }
   ],
   "source": [
    "a = 10\n",
    "print(a + 10)\n",
    "print(a + 20)\n",
    "print(sum(range(1,10)))"
   ]
  },
  {
   "cell_type": "markdown",
   "metadata": {},
   "source": [
    "- print문 안이 범위이기 때문에 a를 아무리 더해도 누적이 되지 않는다.\n",
    "- 하지만 sum을 사용하면 누적된 합이 나온다.\n",
    "- 이것처럼 내가 a를 계속 더하는 것을 (결과를) 누적시킬 수 있을까?\n",
    "- 그리고 이것을 클래스 형태로 만들 수 있을까?"
   ]
  },
  {
   "cell_type": "code",
   "execution_count": 15,
   "metadata": {},
   "outputs": [],
   "source": [
    "# 평균을 만들어주는 클래스를 만들어보자\n",
    "class Averager():\n",
    "    def __init__(self):\n",
    "        self._series = []\n",
    "        \n",
    "    def __call__(self, v):\n",
    "        self._series.append(v)\n",
    "        print('class >>> {} / {}'.format(self._series, len(self._series)))\n",
    "        return sum(self._series) / len(self._series)"
   ]
  },
  {
   "cell_type": "code",
   "execution_count": 24,
   "metadata": {},
   "outputs": [],
   "source": [
    "# 인스턴스 생성\n",
    "avg_cls = Averager()"
   ]
  },
  {
   "cell_type": "code",
   "execution_count": 25,
   "metadata": {},
   "outputs": [
    {
     "name": "stdout",
     "output_type": "stream",
     "text": [
      "class >>> [10] / 1\n",
      "class >>> [10, 20] / 2\n",
      "class >>> [10, 20, 30] / 3\n"
     ]
    },
    {
     "data": {
      "text/plain": [
       "20.0"
      ]
     },
     "execution_count": 25,
     "metadata": {},
     "output_type": "execute_result"
    }
   ],
   "source": [
    "avg_cls(10)\n",
    "avg_cls(20)\n",
    "avg_cls(30)"
   ]
  },
  {
   "cell_type": "markdown",
   "metadata": {},
   "source": [
    "- 점점 누적이 되고 있는 것을 볼 수 있다.\n",
    "- 클래스 인스턴스 변수 안에 계속 append()하고 \n",
    "- 이것을 속성값으로 계속 갖고 있기 때문에 호출할 때마다 append하고 나눠준다."
   ]
  },
  {
   "cell_type": "markdown",
   "metadata": {},
   "source": [
    "### 위에서 만든 Averager 클래스를 closure로 만들자"
   ]
  },
  {
   "cell_type": "code",
   "execution_count": 28,
   "metadata": {},
   "outputs": [],
   "source": [
    "def closure_avg1():\n",
    "    # 여기가 클로져 영역! (free variable 영역)\n",
    "    # averager 함수의 유효 범위를 벗어나 있지만 접근이 가능하다\n",
    "    series = []\n",
    "    \n",
    "    def averager(v):\n",
    "        series.append(v)\n",
    "        print('class >>> {} / {}'.format(series, len(series)))\n",
    "        return sum(series) / len(series)\n",
    "    \n",
    "    return averager # 함수를 return"
   ]
  },
  {
   "cell_type": "code",
   "execution_count": 29,
   "metadata": {},
   "outputs": [],
   "source": [
    "avg_closure1 = closure_avg1()"
   ]
  },
  {
   "cell_type": "code",
   "execution_count": 30,
   "metadata": {},
   "outputs": [
    {
     "data": {
      "text/plain": [
       "<function __main__.closure_avg1.<locals>.averager(v)>"
      ]
     },
     "execution_count": 30,
     "metadata": {},
     "output_type": "execute_result"
    }
   ],
   "source": [
    "# 함수를 리턴 받았음\n",
    "avg_closure1"
   ]
  },
  {
   "cell_type": "code",
   "execution_count": 31,
   "metadata": {},
   "outputs": [
    {
     "name": "stdout",
     "output_type": "stream",
     "text": [
      "class >>> [10] / 1\n",
      "class >>> [10, 20] / 2\n",
      "class >>> [10, 20, 30] / 3\n"
     ]
    },
    {
     "data": {
      "text/plain": [
       "20.0"
      ]
     },
     "execution_count": 31,
     "metadata": {},
     "output_type": "execute_result"
    }
   ],
   "source": [
    "avg_closure1(10)\n",
    "avg_closure1(20)\n",
    "avg_closure1(30)"
   ]
  },
  {
   "cell_type": "markdown",
   "metadata": {},
   "source": [
    "- 전역변수의 사용을 감소할 수 있다\n",
    "- 디자인 패턴 적용이 가능함\n",
    "- 하지만 메모리 사용 측면에서 좋진 않음"
   ]
  },
  {
   "cell_type": "markdown",
   "metadata": {},
   "source": [
    "### 데코레이터\n",
    "- 이것도 클로져처럼 외부에 있는 것을 내부에서 사용하게 해준다는 개념이긴 함\n",
    "- 하지만 클로져보다 간결하고 조합해서 사용하기에 용이하다"
   ]
  },
  {
   "cell_type": "code",
   "execution_count": 49,
   "metadata": {},
   "outputs": [],
   "source": [
    "# 함수의 실행시간을 측정해보는 함수를 만들어보자\n",
    "import time\n",
    "\n",
    "def time_check(func):\n",
    "    def performance_clocked(*args):\n",
    "        # 시작 시간\n",
    "        st = time.perf_counter() # perf_counter는 time 모듈 내장함수 (코드 시간 잼)\n",
    "        result = func(*args)\n",
    "        \n",
    "        # 종료 시간\n",
    "        et = time.perf_counter() - st\n",
    "        \n",
    "        # 함수명\n",
    "        name = func.__name__\n",
    "        \n",
    "        # 매개변수\n",
    "        arg_str = ','.join(repr(arg) for arg in args)\n",
    "        \n",
    "        # 출력\n",
    "        print('Result: [%0.5fs] %s(%s) -> %r' % (et, name, arg_str, result))\n",
    "        return result\n",
    "    \n",
    "    return performance_clocked"
   ]
  },
  {
   "cell_type": "code",
   "execution_count": 45,
   "metadata": {},
   "outputs": [],
   "source": [
    "# time_check 함수에 넣은 function들 만들기\n",
    "# 데코레이트용 함수 만들기\n",
    "def time_func(seconds):\n",
    "    time.sleep(seconds)\n",
    "\n",
    "def sum_func(*numbers):\n",
    "    return sum(numbers)"
   ]
  },
  {
   "cell_type": "markdown",
   "metadata": {},
   "source": [
    "### 데코레이터 안 쓸 경우"
   ]
  },
  {
   "cell_type": "code",
   "execution_count": 46,
   "metadata": {},
   "outputs": [],
   "source": [
    "non_decor1 = time_check(time_func)\n",
    "non_decor2 = time_check(sum_func)"
   ]
  },
  {
   "cell_type": "code",
   "execution_count": 47,
   "metadata": {},
   "outputs": [
    {
     "name": "stdout",
     "output_type": "stream",
     "text": [
      "<function time_check.<locals>.performance_clocked at 0x000001E1F8375D38> ('func',)\n"
     ]
    }
   ],
   "source": [
    "# 안에 뭐가 들었는지 확인해보자\n",
    "# func 을 갖고 있는것을 알 수 있음\n",
    "print(non_decor1, non_decor1.__code__.co_freevars)"
   ]
  },
  {
   "cell_type": "code",
   "execution_count": 55,
   "metadata": {},
   "outputs": [
    {
     "name": "stdout",
     "output_type": "stream",
     "text": [
      "******************************\n",
      "[2.01286s] time_func(2) -> None\n",
      "******************************\n",
      "[0.00000s] sum_func(10,20,30) -> 60\n"
     ]
    },
    {
     "data": {
      "text/plain": [
       "60"
      ]
     },
     "execution_count": 55,
     "metadata": {},
     "output_type": "execute_result"
    }
   ],
   "source": [
    "# 시간 재보기\n",
    "print('*' * 30)\n",
    "non_decor1(2)\n",
    "\n",
    "# 더하기 함수\n",
    "print('*' * 30)\n",
    "non_decor2(10, 20, 30)"
   ]
  },
  {
   "cell_type": "markdown",
   "metadata": {},
   "source": [
    "- 나는 time_func을 실행했는데, 선행으로 performance_clocked 함수 안의 부분들이 다 실행되어 나왔음\n",
    "- 이런식으로 함수를 실행할 때 원하는 것들을 같이 실행 및 꾸밀 수 있다."
   ]
  },
  {
   "cell_type": "markdown",
   "metadata": {},
   "source": [
    "### 데코레이터를 사용할 경우\n",
    "- @ + 사용할 함수 이름 붙이면 끝"
   ]
  },
  {
   "cell_type": "code",
   "execution_count": 56,
   "metadata": {},
   "outputs": [],
   "source": [
    "@time_check\n",
    "def time_func(seconds):\n",
    "    time.sleep(seconds)\n",
    "    \n",
    "@time_check\n",
    "def sum_func(*numbers):\n",
    "    return sum(numbers)"
   ]
  },
  {
   "cell_type": "code",
   "execution_count": 57,
   "metadata": {},
   "outputs": [
    {
     "name": "stdout",
     "output_type": "stream",
     "text": [
      "******************************\n",
      "Result: [2.00484s] time_func(2) -> None\n",
      "******************************\n",
      "Result: [0.00000s] sum_func(10,20,30) -> 60\n"
     ]
    },
    {
     "data": {
      "text/plain": [
       "60"
      ]
     },
     "execution_count": 57,
     "metadata": {},
     "output_type": "execute_result"
    }
   ],
   "source": [
    "print('*' * 30)\n",
    "time_func(2)\n",
    "print('*' * 30)\n",
    "sum_func(10, 20, 30)"
   ]
  },
  {
   "cell_type": "markdown",
   "metadata": {},
   "source": [
    "---\n",
    "## Generator\n",
    "- 호출할 때마다 반환해줌\n",
    "- 지능형 리스트, 딕셔너리, 집합의 경우, 데이터 셋이 증가될 경우 메모리 사용량이 증가한다.\n",
    "- 이때, 제너레이터가 이것을 완화할 수 있다.\n",
    "- 그리고 단위 실행 가능한 coroutine 구현에 사용된다."
   ]
  },
  {
   "cell_type": "markdown",
   "metadata": {},
   "source": [
    "#### 클래스를 만들고, 이를 제너레이터로 바꿔보자\n",
    "- 문자열을 받으면, split해서 iteration 하는 클래스를 만들어보고\n",
    "- 이를 제너레이터로 활용해서 수정하기"
   ]
  },
  {
   "cell_type": "code",
   "execution_count": 21,
   "metadata": {},
   "outputs": [],
   "source": [
    "class WordSplitIter():\n",
    "    def __init__(self, text):\n",
    "        self._idx = 0\n",
    "        self._text = text.split(' ')\n",
    "    \n",
    "    # 다음 순서를 기억하기 위해 idx가 필요함\n",
    "    def __next__(self): # 호출때 마다 인덱스가 바뀌면서 단어가 나옴\n",
    "        try:\n",
    "            word = self._text[self._idx]\n",
    "        except IndexError:\n",
    "            raise StopIteration()\n",
    "        self._idx += 1\n",
    "        return word\n",
    "    \n",
    "    def __iter__(self): # 클래스를 반복할 것임\n",
    "        print('Called __iter__')\n",
    "        return self\n",
    "    \n",
    "    def __repr__(self): # 객체 호출 때 어떤 정보가 있는지 알아보기\n",
    "        return 'WordSplitIter(%s)' % (self._text)"
   ]
  },
  {
   "cell_type": "code",
   "execution_count": 22,
   "metadata": {},
   "outputs": [
    {
     "data": {
      "text/plain": [
       "WordSplitIter(['who', 'says', 'the', 'nights', 'are', 'for', 'sleeping'])"
      ]
     },
     "execution_count": 22,
     "metadata": {},
     "output_type": "execute_result"
    }
   ],
   "source": [
    "wi = WordSplitIter('who says the nights are for sleeping')\n",
    "\n",
    "# repr 메소드를 부르면서 객체에 어떤 정보가 저장됬는지 확인\n",
    "wi"
   ]
  },
  {
   "cell_type": "code",
   "execution_count": 23,
   "metadata": {},
   "outputs": [
    {
     "name": "stdout",
     "output_type": "stream",
     "text": [
      "who\n",
      "says\n",
      "the\n"
     ]
    }
   ],
   "source": [
    "# 이제 next를 하면서 단어를 하나씩 부름\n",
    "print(next(wi))\n",
    "print(next(wi))\n",
    "print(next(wi))"
   ]
  },
  {
   "cell_type": "markdown",
   "metadata": {},
   "source": [
    "- 다음에 나올 단어를 커서로 가르키고, next가 실행되면 반환된다.\n",
    "- 끝까지 next를 실행하면 인덱스가 리스트 범위를 넘어가면서 IndexError가 생김\n",
    "### 위의 클래스를 Generator로 바꿔보자"
   ]
  },
  {
   "cell_type": "code",
   "execution_count": 28,
   "metadata": {},
   "outputs": [],
   "source": [
    "class WordSplitIter():\n",
    "    def __init__(self, text):\n",
    "        self._text = text.split(' ')\n",
    "    \n",
    "    # generator가 있기 때문에 따로 idx를 만들 필요가 없음. (내부적으로 기억함)\n",
    "    # 아까 만든 __next__()도 필요가 없음. 그리고 IndexError도 알아서 나옴\n",
    "    \n",
    "    def __iter__(self):\n",
    "        # 여기가 바로 제너레이터!!\n",
    "        for word in self._text:\n",
    "            yield word # 여기서 알아서 다 처리함\n",
    "        return\n",
    "    \n",
    "    def __repr__(self): # 객체 호출 때 어떤 정보가 있는지 알아보기\n",
    "        return 'WordSplitIter(%s)' % (self._text)"
   ]
  },
  {
   "cell_type": "code",
   "execution_count": 29,
   "metadata": {},
   "outputs": [
    {
     "data": {
      "text/plain": [
       "WordSplitIter(['who', 'says', 'the', 'nights', 'are', 'for', 'sleeping'])"
      ]
     },
     "execution_count": 29,
     "metadata": {},
     "output_type": "execute_result"
    }
   ],
   "source": [
    "wi = WordSplitIter('who says the nights are for sleeping')\n",
    "# repr 메소드를 부르면서 객체에 어떤 정보가 저장됬는지 확인\n",
    "wi"
   ]
  },
  {
   "cell_type": "code",
   "execution_count": 32,
   "metadata": {},
   "outputs": [
    {
     "name": "stdout",
     "output_type": "stream",
     "text": [
      "who\n",
      "says\n",
      "the\n"
     ]
    }
   ],
   "source": [
    "# iter 함수를 호출해서 iteratable하게 바꿔줘야 함\n",
    "wg = iter(wi)\n",
    "\n",
    "# 이제 next를 하면서 단어를 하나씩 부름\n",
    "print(next(wg))\n",
    "print(next(wg))\n",
    "print(next(wg))"
   ]
  },
  {
   "cell_type": "markdown",
   "metadata": {},
   "source": [
    "- yield 예약어 때문에 쉽게 구현이 가능해졌다."
   ]
  },
  {
   "cell_type": "code",
   "execution_count": 79,
   "metadata": {},
   "outputs": [],
   "source": [
    "def generator_ex1():\n",
    "    print('start')\n",
    "    yield 'AAA'\n",
    "    print('continue')\n",
    "    yield 'BBB'\n",
    "    print('end')\n",
    "    \n",
    "temp = iter(generator_ex1())"
   ]
  },
  {
   "cell_type": "code",
   "execution_count": 71,
   "metadata": {},
   "outputs": [
    {
     "name": "stdout",
     "output_type": "stream",
     "text": [
      "start\n",
      "AAA\n",
      "continue\n",
      "BBB\n"
     ]
    }
   ],
   "source": [
    "# 순서대로 나옴\n",
    "print(next(temp))\n",
    "print(next(temp))\n",
    "# print(next(temp))"
   ]
  },
  {
   "cell_type": "code",
   "execution_count": 74,
   "metadata": {},
   "outputs": [
    {
     "name": "stdout",
     "output_type": "stream",
     "text": [
      "start\n",
      "AAA\n",
      "continue\n",
      "BBB\n",
      "end\n"
     ]
    }
   ],
   "source": [
    "# 반복문에서 주로 사용함\n",
    "for i in generator_ex1():\n",
    "    print(i)"
   ]
  },
  {
   "cell_type": "markdown",
   "metadata": {},
   "source": [
    "#### 괄호를 사용하면 지능형 제너레이터를 만든다"
   ]
  },
  {
   "cell_type": "code",
   "execution_count": 80,
   "metadata": {},
   "outputs": [
    {
     "name": "stdout",
     "output_type": "stream",
     "text": [
      "start\n",
      "continue\n",
      "end\n"
     ]
    }
   ],
   "source": [
    "temp2 = [x * 3 for x in generator_ex1()]\n",
    "temp3 = (x * 3 for x in generator_ex1())"
   ]
  },
  {
   "cell_type": "code",
   "execution_count": 82,
   "metadata": {},
   "outputs": [
    {
     "name": "stdout",
     "output_type": "stream",
     "text": [
      "['AAAAAAAAA', 'BBBBBBBBB']\n",
      "<generator object <genexpr> at 0x000001E1F8389448>\n"
     ]
    }
   ],
   "source": [
    "print(temp2)\n",
    "print(temp3)"
   ]
  }
 ],
 "metadata": {
  "kernelspec": {
   "display_name": "Python 3",
   "language": "python",
   "name": "python3"
  },
  "language_info": {
   "codemirror_mode": {
    "name": "ipython",
    "version": 3
   },
   "file_extension": ".py",
   "mimetype": "text/x-python",
   "name": "python",
   "nbconvert_exporter": "python",
   "pygments_lexer": "ipython3",
   "version": "3.7.5"
  }
 },
 "nbformat": 4,
 "nbformat_minor": 2
}
