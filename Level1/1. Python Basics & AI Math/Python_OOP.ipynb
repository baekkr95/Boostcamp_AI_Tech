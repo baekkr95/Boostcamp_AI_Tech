{
 "cells": [
  {
   "cell_type": "markdown",
   "metadata": {},
   "source": [
    "# 상속\n",
    "- 부모 클래스로부터 속성과 method를 물려받은 자식 클래스를 생성하는 것\n",
    "- super()는 부모 클래스의 init()을 불러오는 것"
   ]
  },
  {
   "cell_type": "code",
   "execution_count": 2,
   "metadata": {},
   "outputs": [],
   "source": [
    "class Person():\n",
    "    def __init__(self, name, age, gender):\n",
    "        self.name = name\n",
    "        self.age = age\n",
    "        self.gender = gender\n",
    "    \n",
    "    def about_me(self):\n",
    "        print(f'제 나이는 {self.age}이구요, 제 이름은 {self.name}입니다.')\n",
    "        \n",
    "    def __str__(self): # 객체를 print하면 나오는 메소드\n",
    "        print(f'제 나이는 {self.age}이구요, 제 이름은 {self.name}입니다.')"
   ]
  },
  {
   "cell_type": "code",
   "execution_count": 3,
   "metadata": {},
   "outputs": [],
   "source": [
    "class Employee(Person):\n",
    "    def __init__(self, name, age, gender, salary, hire_date):\n",
    "        super().__init__(name, age, gender)\n",
    "        self.salary = salary\n",
    "        self.hire_date = hire_date\n",
    "        \n",
    "    def do_work(self):\n",
    "        print('일 열심히 합니다')\n",
    "        \n",
    "    def about_me(self):\n",
    "        super().about_me() # 부모클래스 메소드 재사용\n",
    "        print(f'제 급여는 {self.salary}원 이구요, 제 입사일은 {self.hire_date}입니다.')\n"
   ]
  },
  {
   "cell_type": "code",
   "execution_count": 4,
   "metadata": {},
   "outputs": [
    {
     "name": "stdout",
     "output_type": "stream",
     "text": [
      "제 나이는 34이구요, 제 이름은 John입니다.\n"
     ]
    }
   ],
   "source": [
    "myPerson = Person('John', 34, \"Male\")\n",
    "myPerson.about_me()"
   ]
  },
  {
   "cell_type": "code",
   "execution_count": 6,
   "metadata": {},
   "outputs": [
    {
     "name": "stdout",
     "output_type": "stream",
     "text": [
      "제 나이는 20이구요, 제 이름은 baek입니다.\n",
      "제 급여는 30000원 이구요, 제 입사일은 2021/01/21입니다.\n"
     ]
    }
   ],
   "source": [
    "myEmployee = Employee('baek', 20, 'Male', 30000, '2021/01/21')\n",
    "myEmployee.about_me()"
   ]
  },
  {
   "cell_type": "markdown",
   "metadata": {},
   "source": [
    "---\n",
    "# 다형성\n",
    "- 같은 이름 메소드의 내부 로직을 다르게 작성\n",
    "- 같은 개념을 쓰는데, 세부적으로 다른 로직을 써야할 경우에 필요하다\n",
    "- 다이나믹 타이핑 특성으로 인해 같은 부모클래스의 상속에서 주로 발생함"
   ]
  },
  {
   "cell_type": "code",
   "execution_count": 7,
   "metadata": {},
   "outputs": [],
   "source": [
    "class Animal:\n",
    "    def __init__(self, name):\n",
    "        self.name = name\n",
    "    def talk(self):\n",
    "        raise NotImplementedError('Subclass must implement abstract method')\n",
    "        \n",
    "class Cat(Animal):\n",
    "    def talk(self):\n",
    "        return 'Meow'\n",
    "\n",
    "class Dog(Animal):\n",
    "    def talk(self):\n",
    "        return 'Woof'"
   ]
  },
  {
   "cell_type": "code",
   "execution_count": 8,
   "metadata": {},
   "outputs": [
    {
     "name": "stdout",
     "output_type": "stream",
     "text": [
      "Missy:Meow\n",
      "Mr.Mistoffelees:Meow\n",
      "Lassie:Woof\n"
     ]
    }
   ],
   "source": [
    "animals = [Cat('Missy'), Cat('Mr.Mistoffelees'), Dog('Lassie')]\n",
    "\n",
    "for animal in animals:\n",
    "    print(animal.name + ':' + animal.talk())"
   ]
  },
  {
   "cell_type": "markdown",
   "metadata": {},
   "source": [
    "---\n",
    "# 가시성\n",
    "- 객체의 정보를 볼 수 있는 레벨을 조정하는 것\n",
    "- 누구나 객체 안에 모든 변수를 볼 필요가 없음\n",
    "- **캡슐화 (Encapsulation) 이라고도 한다**\n",
    "- 클래스 간 간섭 및 정보공유의 최소화를 위해 사용함\n",
    "- 예를 들어 심판 클래스가 축구선수 클래스의 가족 정보를 알 필요가 없다"
   ]
  },
  {
   "cell_type": "code",
   "execution_count": 9,
   "metadata": {},
   "outputs": [],
   "source": [
    "class Product():\n",
    "    pass\n",
    "\n",
    "class Inventory():\n",
    "    def __init__(self): \n",
    "        self.__items = [] ### 언더바 2개를 넣어서 Private 변수로 선언 (외부 접근 X)\n"
   ]
  },
  {
   "cell_type": "markdown",
   "metadata": {},
   "source": [
    "### 만약 item에 접근을 허용하려면?\n",
    "- property 데코레이터를 사용\n",
    "- 외부에서 접근은 안되는데, 내부에서 접근이 되서 반환이 가능해짐"
   ]
  },
  {
   "cell_type": "code",
   "execution_count": 13,
   "metadata": {},
   "outputs": [],
   "source": [
    "class Inventory():\n",
    "    def __init__(self): \n",
    "        self.__items = []\n",
    "    \n",
    "    @property\n",
    "    def items(self):\n",
    "        return self, __items\n",
    "\n",
    "# my.items() 이런식으로 내부에 접근이 가능해짐"
   ]
  },
  {
   "cell_type": "markdown",
   "metadata": {},
   "source": [
    "---\n",
    "# Decorater\n",
    "- printer함수의 파라미터가 inner의 args로 넘어감"
   ]
  },
  {
   "cell_type": "code",
   "execution_count": 32,
   "metadata": {},
   "outputs": [
    {
     "name": "stdout",
     "output_type": "stream",
     "text": [
      "********************\n",
      "Hello\n",
      "********************\n",
      "H e l l o\n"
     ]
    }
   ],
   "source": [
    "def star(func):\n",
    "    def inner(*args, **kwargs):\n",
    "        print('*' * 20)\n",
    "        func(*args, **kwargs)\n",
    "        print('*' * 20)\n",
    "        print(*args[0])\n",
    "    return inner\n",
    "\n",
    "@star\n",
    "def printer(msg, mark):\n",
    "    print(msg)\n",
    "\n",
    "printer('Hello', 'T')"
   ]
  }
 ],
 "metadata": {
  "kernelspec": {
   "display_name": "Python 3",
   "language": "python",
   "name": "python3"
  },
  "language_info": {
   "codemirror_mode": {
    "name": "ipython",
    "version": 3
   },
   "file_extension": ".py",
   "mimetype": "text/x-python",
   "name": "python",
   "nbconvert_exporter": "python",
   "pygments_lexer": "ipython3",
   "version": "3.7.5"
  }
 },
 "nbformat": 4,
 "nbformat_minor": 2
}
