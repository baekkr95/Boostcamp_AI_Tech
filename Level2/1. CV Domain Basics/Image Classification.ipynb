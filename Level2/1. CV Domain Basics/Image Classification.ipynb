{
 "cells": [
  {
   "cell_type": "markdown",
   "metadata": {},
   "source": [
    "## Image Classification"
   ]
  },
  {
   "cell_type": "markdown",
   "metadata": {},
   "source": [
    "- 하나의 특징을 뽑기 위해서, 모든 픽셀을 고려하는 FC Layer 대신에,   \n",
    "- 하나의 특징을 영상의 공간 특성을 고려해서, 국부적인 영역들만 connection을 고려한 layer가 Locally connected nerual networks라 한다.\n",
    "- 특징을 뽑을 때, 필요한 파라미터가 획기적으로 줄게 된다.\n",
    "- 이런 지역적인 특징들이 영상 여러군데에서 나타나기 때문에, Sliding Window처럼 전 영역을 순회하면서 feature를 뽑는 것이 CNN이다.\n",
    "- 이러면 파라미터를 재활용 가능해져서 더 효과적으로 특징을 추출할 수 있게 된다."
   ]
  },
  {
   "cell_type": "markdown",
   "metadata": {},
   "source": []
  },
  {
   "cell_type": "markdown",
   "metadata": {},
   "source": []
  },
  {
   "cell_type": "markdown",
   "metadata": {},
   "source": []
  },
  {
   "cell_type": "markdown",
   "metadata": {},
   "source": []
  }
 ],
 "metadata": {
  "interpreter": {
   "hash": "d4d1e4263499bec80672ea0156c357c1ee493ec2b1c70f0acce89fc37c4a6abe"
  },
  "kernelspec": {
   "display_name": "Python 3.8.5 ('base')",
   "language": "python",
   "name": "python3"
  },
  "language_info": {
   "codemirror_mode": {
    "name": "ipython",
    "version": 3
   },
   "file_extension": ".py",
   "mimetype": "text/x-python",
   "name": "python",
   "nbconvert_exporter": "python",
   "pygments_lexer": "ipython3",
   "version": "3.8.5"
  },
  "orig_nbformat": 4
 },
 "nbformat": 4,
 "nbformat_minor": 2
}
