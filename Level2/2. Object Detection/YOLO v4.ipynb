{
 "cells": [
  {
   "cell_type": "markdown",
   "metadata": {},
   "source": [
    "### Contribution\n",
    "- 하나의 GPU에서 훈련이 가능한 빠르고 정확한 Object Detector\n",
    "- 제한된 리소스 환경에서 효율적인 가이드를 제공함.\n",
    "\n",
    "\n",
    "- BOF, BOS 방법을 실험을 통해 증명하고 조합을 찾음\n",
    "    - BOF(Bag of Freebies) : inference 비용을 늘리지 않고, 정확도를 향상하는 방법. 하지만 Train 단계의 계산 cost는 증가된다.\n",
    "    - BOS(Bag of Specials) : inference 비용은 조금 높이지만, 정확도를 크게 향상시킨다. 예를 들면, Cascade나 DCN 등이 있다."
   ]
  },
  {
   "cell_type": "markdown",
   "metadata": {},
   "source": [
    "## Bag of Freebies\n"
   ]
  },
  {
   "cell_type": "markdown",
   "metadata": {},
   "source": []
  },
  {
   "cell_type": "markdown",
   "metadata": {},
   "source": []
  },
  {
   "cell_type": "markdown",
   "metadata": {},
   "source": []
  },
  {
   "cell_type": "markdown",
   "metadata": {},
   "source": []
  },
  {
   "cell_type": "markdown",
   "metadata": {},
   "source": []
  },
  {
   "cell_type": "markdown",
   "metadata": {},
   "source": [
    "## Bag of Specials"
   ]
  },
  {
   "cell_type": "markdown",
   "metadata": {},
   "source": []
  },
  {
   "cell_type": "markdown",
   "metadata": {},
   "source": []
  },
  {
   "cell_type": "markdown",
   "metadata": {},
   "source": []
  },
  {
   "cell_type": "markdown",
   "metadata": {},
   "source": [
    "### Backbone 모델 개선\n",
    "- 작은 물체 검출을 위해서 해상도가 높은 이미지를 사용 (네트워크 입력 사이즈가 크다)\n",
    "- 입력 사이즈가 증가했으니까, 큰 receptive field를 위해서 Layer를 증가시킴\n",
    "- 하나의 이미지로 다양한 사이즈의 물체를 검출하고자 모델의 파라미터를 증가시킴."
   ]
  },
  {
   "cell_type": "markdown",
   "metadata": {},
   "source": []
  },
  {
   "cell_type": "markdown",
   "metadata": {},
   "source": []
  }
 ],
 "metadata": {
  "kernelspec": {
   "display_name": "Python 3",
   "language": "python",
   "name": "python3"
  },
  "language_info": {
   "codemirror_mode": {
    "name": "ipython",
    "version": 3
   },
   "file_extension": ".py",
   "mimetype": "text/x-python",
   "name": "python",
   "nbconvert_exporter": "python",
   "pygments_lexer": "ipython3",
   "version": "3.7.5"
  }
 },
 "nbformat": 4,
 "nbformat_minor": 2
}
