{
 "cells": [
  {
   "cell_type": "markdown",
   "metadata": {},
   "source": [
    "ViT 처럼 Transformer를 사용하면 계산 cost가 너무 커진다.\n",
    "그래서 일반적으로 backbone으로 transformer를 사용할 수가 없다.\n",
    "\n",
    "Swin Transformer를 통해 위의 문제점을 해결함.\n",
    "- CNN과 유사한 구조로 transformer를 설계했다.\n",
    "- 계산 cost를 줄이기 위해 Window 구조를 제안함."
   ]
  },
  {
   "cell_type": "markdown",
   "metadata": {},
   "source": [
    "이미지를 패치로 나눠줌.\n",
    "패치에 임베딩을 더해줌\n",
    "transformer를 통과한다. \n",
    "Window Multi Head를 통해 cosst를 줄인다.\n",
    "앞 stage에서 다음 stage로 넘어갈 때마다, Patch Merging을 통해서 feature map의 사이즈를 줄여준다.\n"
   ]
  },
  {
   "cell_type": "markdown",
   "metadata": {},
   "source": [
    "### Patch Partitioning\n",
    "- ViT 처럼 이미지에 patch size를 줘서 N개의 patch로 나누게 된다."
   ]
  },
  {
   "cell_type": "markdown",
   "metadata": {},
   "source": []
  },
  {
   "cell_type": "markdown",
   "metadata": {},
   "source": [
    "### Linear Embedding\n",
    "- ViT와 동일한 embedding 방식이지만, detection task이기 때문에 class embedding은 제거를 했다. "
   ]
  },
  {
   "cell_type": "markdown",
   "metadata": {},
   "source": []
  },
  {
   "cell_type": "markdown",
   "metadata": {},
   "source": [
    "### Swin Transformer Block\n",
    "- Attention을 한 번한 결과를 다시 Attention을 통과를 시킨다.\n",
    "- 총 2번의 Attention을 하나의 트랜스포머 구조로 본다.\n",
    "- 그리고 일반적인 Multi Head Attention이 아닌, Window Multi Head Self Attention과 Shifted Window Multi Head Self Attention을 사용한다."
   ]
  },
  {
   "cell_type": "markdown",
   "metadata": {},
   "source": [
    "### `Window Multi Head Attention`\n",
    "- "
   ]
  },
  {
   "cell_type": "markdown",
   "metadata": {},
   "source": [
    "### `Shifted Window Multi Head Attention`\n",
    "- W-MSA의 단점을 보완하고자 함."
   ]
  },
  {
   "cell_type": "markdown",
   "metadata": {},
   "source": []
  },
  {
   "cell_type": "markdown",
   "metadata": {},
   "source": [
    "### Patch Merging\n",
    "- feature size를 줄이고, channel을 증가시킨다.\n",
    "- channelwise하게 concat해서 Linear layer를 통과시킨다."
   ]
  },
  {
   "cell_type": "markdown",
   "metadata": {},
   "source": []
  },
  {
   "cell_type": "markdown",
   "metadata": {},
   "source": []
  },
  {
   "cell_type": "markdown",
   "metadata": {},
   "source": []
  },
  {
   "cell_type": "markdown",
   "metadata": {},
   "source": []
  }
 ],
 "metadata": {
  "kernelspec": {
   "display_name": "Python 3",
   "language": "python",
   "name": "python3"
  },
  "language_info": {
   "codemirror_mode": {
    "name": "ipython",
    "version": 3
   },
   "file_extension": ".py",
   "mimetype": "text/x-python",
   "name": "python",
   "nbconvert_exporter": "python",
   "pygments_lexer": "ipython3",
   "version": "3.7.5"
  }
 },
 "nbformat": 4,
 "nbformat_minor": 2
}
