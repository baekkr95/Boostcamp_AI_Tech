{
 "cells": [
  {
   "cell_type": "markdown",
   "metadata": {},
   "source": [
    "## YOLO 논문 정리\n",
    "\n",
    "#### 참고 영상\n",
    "> - [PIEW 9, YOLO 사람처럼 한번에 파악! 1부](https://www.youtube.com/watch?v=lxyCUfn_p4Q)\n",
    "- [PIEW 9, YOLO 사람처럼 한번에 파악! 2부](https://www.youtube.com/watch?v=ccnL_ODHfys&t=811s)"
   ]
  },
  {
   "cell_type": "code",
   "execution_count": null,
   "metadata": {},
   "outputs": [],
   "source": []
  }
 ],
 "metadata": {
  "kernelspec": {
   "display_name": "Python 3",
   "language": "python",
   "name": "python3"
  },
  "language_info": {
   "codemirror_mode": {
    "name": "ipython",
    "version": 3
   },
   "file_extension": ".py",
   "mimetype": "text/x-python",
   "name": "python",
   "nbconvert_exporter": "python",
   "pygments_lexer": "ipython3",
   "version": "3.7.5"
  }
 },
 "nbformat": 4,
 "nbformat_minor": 2
}
