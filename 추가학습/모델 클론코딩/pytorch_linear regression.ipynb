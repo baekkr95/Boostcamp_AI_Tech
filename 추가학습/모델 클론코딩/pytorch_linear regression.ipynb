{
 "cells": [
  {
   "cell_type": "markdown",
   "metadata": {},
   "source": [
    "## Linear Regression\n",
    "- 파이토치로 스크레치 코딩\n",
    "> ### 참고 영상\n",
    "[모두의 딥러닝 시즌2, [PyTorch] Lab-02 Linear regression](https://www.youtube.com/watch?v=kyjBMuNM1DI&list=PLQ28Nx3M4JrhkqBVIXg-i5_CVVoS1UzAv&index=4)"
   ]
  },
  {
   "cell_type": "code",
   "execution_count": 1,
   "metadata": {},
   "outputs": [],
   "source": [
    "import torch"
   ]
  },
  {
   "cell_type": "code",
   "execution_count": 2,
   "metadata": {},
   "outputs": [],
   "source": [
    "x_train = torch.FloatTensor([[1],[2],[3]])\n",
    "y_train = torch.FloatTensor([[2],[4],[6]])"
   ]
  },
  {
   "cell_type": "code",
   "execution_count": 3,
   "metadata": {},
   "outputs": [],
   "source": [
    "W = torch.zeros(1, requires_grad=True)\n",
    "b = torch.zeros(1, requires_grad=True)\n",
    "\n",
    "optimizer = torch.optim.SGD([W, b], lr=0.01)\n",
    "epochs = 200"
   ]
  },
  {
   "cell_type": "code",
   "execution_count": 4,
   "metadata": {},
   "outputs": [
    {
     "name": "stdout",
     "output_type": "stream",
     "text": [
      "Epoch: 10, Weight: 1.1663, Cost: 2.313895\n",
      "Epoch: 20, Weight: 1.5314, Cost: 0.284360\n",
      "Epoch: 30, Weight: 1.6491, Cost: 0.088100\n",
      "Epoch: 40, Weight: 1.6903, Cost: 0.066544\n",
      "Epoch: 50, Weight: 1.7078, Cost: 0.061758\n",
      "Epoch: 60, Weight: 1.7179, Cost: 0.058698\n",
      "Epoch: 70, Weight: 1.7256, Cost: 0.055924\n",
      "Epoch: 80, Weight: 1.7324, Cost: 0.053295\n",
      "Epoch: 90, Weight: 1.7388, Cost: 0.050790\n",
      "Epoch: 100, Weight: 1.7451, Cost: 0.048403\n",
      "Epoch: 110, Weight: 1.7511, Cost: 0.046128\n",
      "Epoch: 120, Weight: 1.7571, Cost: 0.043960\n",
      "Epoch: 130, Weight: 1.7628, Cost: 0.041894\n",
      "Epoch: 140, Weight: 1.7685, Cost: 0.039926\n",
      "Epoch: 150, Weight: 1.7740, Cost: 0.038049\n",
      "Epoch: 160, Weight: 1.7794, Cost: 0.036261\n",
      "Epoch: 170, Weight: 1.7846, Cost: 0.034557\n",
      "Epoch: 180, Weight: 1.7897, Cost: 0.032933\n",
      "Epoch: 190, Weight: 1.7947, Cost: 0.031385\n",
      "Epoch: 200, Weight: 1.7996, Cost: 0.029910\n"
     ]
    }
   ],
   "source": [
    "for epoch in range(1, epochs + 1):\n",
    "    hypothesis = x_train * W + b\n",
    "    cost = torch.mean((hypothesis - y_train)**2)\n",
    "    \n",
    "    optimizer.zero_grad() # gradient를 0으로 초기화\n",
    "    cost.backward()       # gradient를 계산\n",
    "    optimizer.step()      # gradient descent\n",
    "    \n",
    "    if epoch % 10 == 0:\n",
    "        print('Epoch: {}, Weight: {:.4f}, Cost: {:.6f}'.format(epoch, W.item(), cost.item()))"
   ]
  },
  {
   "cell_type": "markdown",
   "metadata": {},
   "source": [
    "- 학습할수록 Weight가 점점 2로 수렴하고 있고, Cost도 점점 줄어들고 있음."
   ]
  }
 ],
 "metadata": {
  "kernelspec": {
   "display_name": "Python 3",
   "language": "python",
   "name": "python3"
  },
  "language_info": {
   "codemirror_mode": {
    "name": "ipython",
    "version": 3
   },
   "file_extension": ".py",
   "mimetype": "text/x-python",
   "name": "python",
   "nbconvert_exporter": "python",
   "pygments_lexer": "ipython3",
   "version": "3.7.5"
  }
 },
 "nbformat": 4,
 "nbformat_minor": 2
}
