{
 "cells": [
  {
   "cell_type": "code",
   "execution_count": 1,
   "metadata": {
    "executionInfo": {
     "elapsed": 694,
     "status": "ok",
     "timestamp": 1644470972562,
     "user": {
      "displayName": "백경륜",
      "photoUrl": "https://lh3.googleusercontent.com/a/default-user=s64",
      "userId": "06459579199878379001"
     },
     "user_tz": -540
    },
    "id": "1iliL4H86UV1"
   },
   "outputs": [],
   "source": [
    "import torch\n",
    "import torch.nn as nn\n",
    "\n",
    "from torchvision import datasets\n",
    "import torchvision.transforms as transforms\n",
    "from torchvision.utils import save_image\n",
    "\n",
    "import matplotlib.pyplot as plt\n",
    "import numpy as np"
   ]
  },
  {
   "cell_type": "markdown",
   "metadata": {},
   "source": [
    "## 생성자"
   ]
  },
  {
   "cell_type": "code",
   "execution_count": 2,
   "metadata": {
    "executionInfo": {
     "elapsed": 4,
     "status": "ok",
     "timestamp": 1644470972562,
     "user": {
      "displayName": "백경륜",
      "photoUrl": "https://lh3.googleusercontent.com/a/default-user=s64",
      "userId": "06459579199878379001"
     },
     "user_tz": -540
    },
    "id": "okjbBpw86VCO"
   },
   "outputs": [],
   "source": [
    "latent_dim = 100\n",
    "\n",
    "# 생성자 클래스\n",
    "class Generator(nn.Module):\n",
    "    def __init__(self):\n",
    "        super(Generator, self).__init__()\n",
    "        \n",
    "        # 하나의 블록 정의\n",
    "        def block(input_dim, output_dim, normalize=True):\n",
    "            layers = [nn.Linear(input_dim, output_dim)] # Linear 레이어\n",
    "            \n",
    "            if normalize: # 배치정규화 수행\n",
    "                layers.append(nn.BatchNorm1d(output_dim, 0.8))\n",
    "            \n",
    "            layers.append(nn.LeakyReLU(0.2, inplace=True)) # activation function\n",
    "\n",
    "            return layers\n",
    "          \n",
    "        # 위에서 정의한 블록(레이어)를 여러개 쌓을 것임\n",
    "        self.model = nn.Sequential(\n",
    "            *block(latent_dim, 128, normalize=False),\n",
    "            *block(128,256),\n",
    "            *block(256,512),\n",
    "            *block(512,1024),\n",
    "            nn.Linear(1024, 1*28*28), # 하나의 MNINST 데이터를 생성\n",
    "            nn.Tanh() # -1 ~ 1 사이의 값을 갖게 한다\n",
    "        )\n",
    "\n",
    "\n",
    "    def forward(self, z):\n",
    "      img = self.model(z)\n",
    "      img = img.view(img.size(0), 1, 28, 28) # 이미지 생성\n",
    "      return img"
   ]
  },
  {
   "cell_type": "markdown",
   "metadata": {},
   "source": [
    "## 판별자"
   ]
  },
  {
   "cell_type": "code",
   "execution_count": 3,
   "metadata": {
    "executionInfo": {
     "elapsed": 5,
     "status": "ok",
     "timestamp": 1644470972563,
     "user": {
      "displayName": "백경륜",
      "photoUrl": "https://lh3.googleusercontent.com/a/default-user=s64",
      "userId": "06459579199878379001"
     },
     "user_tz": -540
    },
    "id": "mPuHH6PH6V93"
   },
   "outputs": [],
   "source": [
    "# 판별자(Discriminator) 클래스 정의\n",
    "class Discriminator(nn.Module):\n",
    "    def __init__(self):\n",
    "        super(Discriminator, self).__init__()\n",
    "\n",
    "        # \n",
    "        self.model = nn.Sequential(\n",
    "            nn.Linear(1 * 28 * 28, 512),\n",
    "            nn.LeakyReLU(0.2, inplace=True),\n",
    "            nn.Linear(512, 256),\n",
    "            nn.LeakyReLU(0.2, inplace=True),\n",
    "            nn.Linear(256, 1),\n",
    "            nn.Sigmoid(),  # 확률 값을 내보냄\n",
    "        )\n",
    "\n",
    "    def forward(self, img):\n",
    "      flattened = img.view(img.size(0), -1) # 한장의 이미지가 들어오면 flat함\n",
    "      output = self.model(flattened)\n",
    "\n",
    "      return output"
   ]
  },
  {
   "cell_type": "markdown",
   "metadata": {
    "id": "AG04rKJ3872f"
   },
   "source": [
    "## 학습 데이터셋\n",
    "- MNIST 사용"
   ]
  },
  {
   "cell_type": "code",
   "execution_count": 4,
   "metadata": {
    "colab": {
     "base_uri": "https://localhost:8080/"
    },
    "executionInfo": {
     "elapsed": 4,
     "status": "ok",
     "timestamp": 1644470972563,
     "user": {
      "displayName": "백경륜",
      "photoUrl": "https://lh3.googleusercontent.com/a/default-user=s64",
      "userId": "06459579199878379001"
     },
     "user_tz": -540
    },
    "id": "y58K68UL6WAH",
    "outputId": "cb9425c6-0fc8-4329-f385-0c46a28cb179"
   },
   "outputs": [
    {
     "name": "stderr",
     "output_type": "stream",
     "text": [
      "/usr/local/lib/python3.7/dist-packages/torch/utils/data/dataloader.py:481: UserWarning: This DataLoader will create 4 worker processes in total. Our suggested max number of worker in current system is 2, which is smaller than what this DataLoader is going to create. Please be aware that excessive worker creation might get DataLoader running slow or even freeze, lower the worker number to avoid potential slowness/freeze if necessary.\n",
      "  cpuset_checked))\n"
     ]
    }
   ],
   "source": [
    "transforms_train = transforms.Compose([\n",
    "    transforms.Resize(28),\n",
    "    transforms.ToTensor(),\n",
    "    transforms.Normalize([0.5], [0.5])\n",
    "])\n",
    "# 학습 데이터셋\n",
    "train_dataset = datasets.MNIST(root=\"./dataset\", train=True, download=True, transform=transforms_train)\n",
    "# 배치 128개, 데이터 로어\n",
    "dataloader = torch.utils.data.DataLoader(train_dataset, batch_size=128, shuffle=True, num_workers=4)"
   ]
  },
  {
   "cell_type": "code",
   "execution_count": 5,
   "metadata": {
    "executionInfo": {
     "elapsed": 5630,
     "status": "ok",
     "timestamp": 1644470978190,
     "user": {
      "displayName": "백경륜",
      "photoUrl": "https://lh3.googleusercontent.com/a/default-user=s64",
      "userId": "06459579199878379001"
     },
     "user_tz": -540
    },
    "id": "3UCmP8Ix6WCk"
   },
   "outputs": [],
   "source": [
    "# 생성자와 판별자 초기화\n",
    "# 파라미터 설정\n",
    "\n",
    "generator = Generator()\n",
    "discriminator = Discriminator()\n",
    "\n",
    "generator.cuda()\n",
    "discriminator.cuda()\n",
    "\n",
    "# loss function\n",
    "adversarial_loss = nn.BCELoss()\n",
    "adversarial_loss.cuda()\n",
    "\n",
    "# learning rate\n",
    "lr = 0.0002\n",
    "\n",
    "# 생성자와 판별자 optimizer\n",
    "optimizer_G = torch.optim.Adam(generator.parameters(), lr=lr, betas=(0.5, 0.999))\n",
    "optimizer_D = torch.optim.Adam(discriminator.parameters(), lr=lr, betas=(0.5, 0.999))"
   ]
  },
  {
   "cell_type": "code",
   "execution_count": 28,
   "metadata": {
    "colab": {
     "base_uri": "https://localhost:8080/",
     "height": 1000
    },
    "executionInfo": {
     "elapsed": 574112,
     "status": "ok",
     "timestamp": 1644472005793,
     "user": {
      "displayName": "백경륜",
      "photoUrl": "https://lh3.googleusercontent.com/a/default-user=s64",
      "userId": "06459579199878379001"
     },
     "user_tz": -540
    },
    "id": "B3NjYPjL6WEw",
    "outputId": "89e64599-02b1-46f7-9b92-0536b4c75b5c"
   },
   "outputs": [
    {
     "name": "stderr",
     "output_type": "stream",
     "text": [
      "/usr/local/lib/python3.7/dist-packages/torch/utils/data/dataloader.py:481: UserWarning: This DataLoader will create 4 worker processes in total. Our suggested max number of worker in current system is 2, which is smaller than what this DataLoader is going to create. Please be aware that excessive worker creation might get DataLoader running slow or even freeze, lower the worker number to avoid potential slowness/freeze if necessary.\n",
      "  cpuset_checked))\n"
     ]
    },
    {
     "name": "stdout",
     "output_type": "stream",
     "text": [
      "[Epoch 0/50] [D loss: 0.410146] [G loss: 0.778165]\n",
      "[Epoch 1/50] [D loss: 0.134580] [G loss: 2.179240]\n",
      "[Epoch 2/50] [D loss: 0.225163] [G loss: 2.136491]\n",
      "[Epoch 3/50] [D loss: 0.196298] [G loss: 1.745077]\n",
      "[Epoch 4/50] [D loss: 0.169888] [G loss: 3.287423]\n",
      "[Epoch 5/50] [D loss: 0.275531] [G loss: 2.665726]\n",
      "[Epoch 6/50] [D loss: 0.303322] [G loss: 1.441792]\n",
      "[Epoch 7/50] [D loss: 0.246384] [G loss: 3.484176]\n",
      "[Epoch 8/50] [D loss: 0.252512] [G loss: 1.413143]\n",
      "[Epoch 9/50] [D loss: 0.107737] [G loss: 3.234012]\n",
      "[Epoch 10/50] [D loss: 0.160711] [G loss: 2.454637]\n",
      "[Epoch 11/50] [D loss: 0.155579] [G loss: 3.364935]\n",
      "[Epoch 12/50] [D loss: 0.212262] [G loss: 5.540832]\n",
      "[Epoch 13/50] [D loss: 0.178068] [G loss: 3.330014]\n",
      "[Epoch 14/50] [D loss: 0.150075] [G loss: 2.649319]\n",
      "[Epoch 15/50] [D loss: 0.103568] [G loss: 2.973999]\n",
      "[Epoch 16/50] [D loss: 0.142730] [G loss: 3.564403]\n",
      "[Epoch 17/50] [D loss: 0.211018] [G loss: 1.690087]\n",
      "[Epoch 18/50] [D loss: 0.254070] [G loss: 1.668048]\n",
      "[Epoch 19/50] [D loss: 0.181767] [G loss: 1.873732]\n",
      "[Epoch 20/50] [D loss: 0.165696] [G loss: 2.295849]\n",
      "[Epoch 21/50] [D loss: 0.079163] [G loss: 4.225195]\n",
      "[Epoch 22/50] [D loss: 0.366146] [G loss: 4.828732]\n",
      "[Epoch 23/50] [D loss: 0.172034] [G loss: 2.758900]\n",
      "[Epoch 24/50] [D loss: 0.158108] [G loss: 2.954699]\n",
      "[Epoch 25/50] [D loss: 0.157815] [G loss: 2.713194]\n",
      "[Epoch 26/50] [D loss: 0.286553] [G loss: 1.773561]\n",
      "[Epoch 27/50] [D loss: 0.152334] [G loss: 2.578787]\n",
      "[Epoch 28/50] [D loss: 0.201912] [G loss: 2.914937]\n",
      "[Epoch 29/50] [D loss: 0.211711] [G loss: 3.239094]\n",
      "[Epoch 30/50] [D loss: 0.281786] [G loss: 4.056180]\n",
      "[Epoch 31/50] [D loss: 0.142400] [G loss: 2.274202]\n",
      "[Epoch 32/50] [D loss: 0.294936] [G loss: 1.105106]\n",
      "[Epoch 33/50] [D loss: 0.102212] [G loss: 2.518997]\n",
      "[Epoch 34/50] [D loss: 0.175573] [G loss: 5.106901]\n",
      "[Epoch 35/50] [D loss: 0.043307] [G loss: 3.914316]\n",
      "[Epoch 36/50] [D loss: 0.379471] [G loss: 7.261005]\n",
      "[Epoch 37/50] [D loss: 0.178332] [G loss: 1.798312]\n",
      "[Epoch 38/50] [D loss: 0.091570] [G loss: 4.203156]\n",
      "[Epoch 39/50] [D loss: 0.100577] [G loss: 2.995695]\n",
      "torch.Size([1, 28, 28])\n",
      "torch.Size([128, 1, 28, 28])\n"
     ]
    },
    {
     "data": {
      "image/png": "[encoded data removed]",
      "text/plain": [
       "<Figure size 432x288 with 2 Axes>"
      ]
     },
     "metadata": {
      "needs_background": "light"
     },
     "output_type": "display_data"
    },
    {
     "name": "stdout",
     "output_type": "stream",
     "text": [
      "[Epoch 40/50] [D loss: 0.176296] [G loss: 4.746065]\n",
      "torch.Size([1, 28, 28])\n",
      "torch.Size([128, 1, 28, 28])\n"
     ]
    },
    {
     "data": {
      "image/png": "[encoded data removed]",
      "text/plain": [
       "<Figure size 432x288 with 2 Axes>"
      ]
     },
     "metadata": {
      "needs_background": "light"
     },
     "output_type": "display_data"
    },
    {
     "name": "stdout",
     "output_type": "stream",
     "text": [
      "[Epoch 41/50] [D loss: 1.750502] [G loss: 12.828581]\n",
      "torch.Size([1, 28, 28])\n",
      "torch.Size([128, 1, 28, 28])\n"
     ]
    },
    {
     "data": {
      "image/png": "[encoded data removed]",
      "text/plain": [
       "<Figure size 432x288 with 2 Axes>"
      ]
     },
     "metadata": {
      "needs_background": "light"
     },
     "output_type": "display_data"
    },
    {
     "name": "stdout",
     "output_type": "stream",
     "text": [
      "[Epoch 42/50] [D loss: 0.202575] [G loss: 1.921681]\n",
      "torch.Size([1, 28, 28])\n",
      "torch.Size([128, 1, 28, 28])\n"
     ]
    },
    {
     "data": {
      "image/png": "[encoded data removed]",
      "text/plain": [
       "<Figure size 432x288 with 2 Axes>"
      ]
     },
     "metadata": {
      "needs_background": "light"
     },
     "output_type": "display_data"
    },
    {
     "name": "stdout",
     "output_type": "stream",
     "text": [
      "[Epoch 43/50] [D loss: 0.136418] [G loss: 3.080976]\n",
      "torch.Size([1, 28, 28])\n",
      "torch.Size([128, 1, 28, 28])\n"
     ]
    },
    {
     "data": {
      "image/png": "[encoded data removed]",
      "text/plain": [
       "<Figure size 432x288 with 2 Axes>"
      ]
     },
     "metadata": {
      "needs_background": "light"
     },
     "output_type": "display_data"
    },
    {
     "name": "stdout",
     "output_type": "stream",
     "text": [
      "[Epoch 44/50] [D loss: 0.185138] [G loss: 6.058261]\n",
      "torch.Size([1, 28, 28])\n",
      "torch.Size([128, 1, 28, 28])\n"
     ]
    },
    {
     "data": {
      "image/png": "[encoded data removed]",
      "text/plain": [
       "<Figure size 432x288 with 2 Axes>"
      ]
     },
     "metadata": {
      "needs_background": "light"
     },
     "output_type": "display_data"
    },
    {
     "name": "stdout",
     "output_type": "stream",
     "text": [
      "[Epoch 45/50] [D loss: 0.231845] [G loss: 1.514386]\n",
      "torch.Size([1, 28, 28])\n",
      "torch.Size([128, 1, 28, 28])\n"
     ]
    },
    {
     "data": {
      "image/png": "[encoded data removed]",
      "text/plain": [
       "<Figure size 432x288 with 2 Axes>"
      ]
     },
     "metadata": {
      "needs_background": "light"
     },
     "output_type": "display_data"
    },
    {
     "name": "stdout",
     "output_type": "stream",
     "text": [
      "[Epoch 46/50] [D loss: 0.187867] [G loss: 2.358241]\n",
      "torch.Size([1, 28, 28])\n",
      "torch.Size([128, 1, 28, 28])\n"
     ]
    },
    {
     "data": {
      "image/png": "[encoded data removed]",
      "text/plain": [
       "<Figure size 432x288 with 2 Axes>"
      ]
     },
     "metadata": {
      "needs_background": "light"
     },
     "output_type": "display_data"
    },
    {
     "name": "stdout",
     "output_type": "stream",
     "text": [
      "[Epoch 47/50] [D loss: 0.172742] [G loss: 1.983443]\n",
      "torch.Size([1, 28, 28])\n",
      "torch.Size([128, 1, 28, 28])\n"
     ]
    },
    {
     "data": {
      "image/png": "[encoded data removed]",
      "text/plain": [
       "<Figure size 432x288 with 2 Axes>"
      ]
     },
     "metadata": {
      "needs_background": "light"
     },
     "output_type": "display_data"
    },
    {
     "name": "stdout",
     "output_type": "stream",
     "text": [
      "[Epoch 48/50] [D loss: 0.170621] [G loss: 2.996931]\n",
      "torch.Size([1, 28, 28])\n",
      "torch.Size([128, 1, 28, 28])\n"
     ]
    },
    {
     "data": {
      "image/png": "[encoded data removed]",
      "text/plain": [
       "<Figure size 432x288 with 2 Axes>"
      ]
     },
     "metadata": {
      "needs_background": "light"
     },
     "output_type": "display_data"
    },
    {
     "name": "stdout",
     "output_type": "stream",
     "text": [
      "[Epoch 49/50] [D loss: 0.157960] [G loss: 3.211366]\n"
     ]
    }
   ],
   "source": [
    "n_epochs = 50\n",
    "\n",
    "# 학습\n",
    "for epoch in range(n_epochs):\n",
    "  for i, (imgs,_) in enumerate(dataloader): # label은 필요 없음\n",
    "    \n",
    "    # 진짜와 가짜 이미지에 대한 정답 레이블\n",
    "    real = torch.cuda.FloatTensor(imgs.size(0), 1).fill_(1.0) # 진짜: 1\n",
    "    fake = torch.cuda.FloatTensor(imgs.size(0), 1).fill_(0.0) # 가짜: 0\n",
    "\n",
    "    real_imgs = imgs.cuda()  # 이미지 데이터\n",
    "\n",
    "    \"\"\"생성자 generator 학습 시작\"\"\"\n",
    "    # 랜덤 노이즈(noise) 샘플링\n",
    "    # 생정자는 노이즈를 받아서 랜덤 이미지를 생성할 수 있다.\n",
    "    # 이미지 개수만큼 노이즈를 뽑아서, 생성자에 넣고 이미지를 만든다.\n",
    "    # 그래서 자신이 만든 이미지를, real_imgs가 되는 방향으로 학습을 한다.\n",
    "\n",
    "    optimizer_G.zero_grad()\n",
    "    \n",
    "    # 노이즈 샘플링, 정규분포에서 샘플링을 함\n",
    "    z = torch.normal(mean=0, std=1, size=(imgs.shape[0], latent_dim)).cuda() \n",
    "    generated_imgs = generator(z) # 이미지 생성\n",
    "\n",
    "    # generated_imgs의 차원:  torch.Size([128, 1, 28, 28])\n",
    "\n",
    "\n",
    "    # loss 계산하고 업데이트\n",
    "    g_loss = adversarial_loss(discriminator(generated_imgs), real)\n",
    "    g_loss.backward()\n",
    "    optimizer_G.step()\n",
    "\n",
    "\n",
    "    \"\"\"판별자 discriminator 학습 시작\"\"\"\n",
    "    # 판별자는 실제 이미지는 real로 분류하고\n",
    "    # 판별자는 생성자가 만든 이미지에 대해서는 fake로 분류하는 방향으로 학습을 함.\n",
    "    \n",
    "    optimizer_D.zero_grad()\n",
    "\n",
    "    # loss 계산하고 업데이트 -> loss 값 2개가 있다.\n",
    "    real_loss = adversarial_loss(discriminator(real_imgs), real)\n",
    "    fake_loss = adversarial_loss(discriminator(generated_imgs.detach()), fake)\n",
    "    d_loss = (real_loss + fake_loss) / 2\n",
    "\n",
    "    d_loss.backward()\n",
    "    optimizer_D.step()\n",
    "\n",
    "    \"\"\"학습 전부 완료\"\"\"\n",
    "\n",
    "    if epoch>=40 and i == 100:\n",
    "      sample_img = generated_imgs[0]\n",
    "      print(sample_img.shape)\n",
    "      sample_img = sample_img.detach().cpu().numpy()\n",
    "      sample_img = np.squeeze(sample_img[0])\n",
    "      plt.subplot(121)\n",
    "      plt.imshow(sample_img, 'gray')\n",
    "\n",
    "      sample_img = real_imgs\n",
    "      print(sample_img.shape)\n",
    "      sample_img = sample_img.detach().cpu().numpy()\n",
    "      sample_img = np.squeeze(sample_img[0])\n",
    "      plt.subplot(122)\n",
    "      plt.imshow(sample_img, 'gray')\n",
    "      plt.show()\n",
    "\n",
    "  print(f\"[Epoch {epoch}/{n_epochs}] [D loss: {d_loss.item():.6f}] [G loss: {g_loss.item():.6f}]\")"
   ]
  }
 ],
 "metadata": {
  "accelerator": "GPU",
  "colab": {
   "authorship_tag": "ABX9TyPhKm1yBt9Doqs/NlI3IUDc",
   "collapsed_sections": [],
   "name": "GAN_MNIST",
   "provenance": []
  },
  "kernelspec": {
   "display_name": "Python 3",
   "language": "python",
   "name": "python3"
  },
  "language_info": {
   "codemirror_mode": {
    "name": "ipython",
    "version": 3
   },
   "file_extension": ".py",
   "mimetype": "text/x-python",
   "name": "python",
   "nbconvert_exporter": "python",
   "pygments_lexer": "ipython3",
   "version": "3.7.5"
  }
 },
 "nbformat": 4,
 "nbformat_minor": 1
}
